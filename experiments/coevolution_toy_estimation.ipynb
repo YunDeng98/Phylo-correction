{
 "metadata": {
  "language_info": {
   "codemirror_mode": {
    "name": "ipython",
    "version": 3
   },
   "file_extension": ".py",
   "mimetype": "text/x-python",
   "name": "python",
   "nbconvert_exporter": "python",
   "pygments_lexer": "ipython3",
   "version": "3.8.5"
  },
  "orig_nbformat": 2,
  "kernelspec": {
   "name": "python3",
   "display_name": "Python 3",
   "language": "python"
  }
 },
 "nbformat": 4,
 "nbformat_minor": 2,
 "cells": [
  {
   "source": [
    "# Coevolution Toy Estimation"
   ],
   "cell_type": "markdown",
   "metadata": {}
  },
  {
   "source": [
    "The goal of this experiment is to determine whether our optimizer is able to recover a 400 x 400 coevolution rate matrix. In this experiment, we let the ground truth 400 x 400 rate matrix be the product of independent WAG matrices, which we call WAG_x_WAG (found at `WAG_x_WAG_matrix.txt`). We use 32 protein families for this experiment, each with 1024 sequences and 1024 sites. All sites evolve under coevolution (i.e. they form 512 pairs).\n",
    "\n",
    "We assume access to the ground truth trees and ancestral states, so we are only testing the efficacy of our optimizer.\n",
    "\n",
    "**QUESTION 1**: Is our optimizer able to recover the WAG_x_WAG matrix?\n",
    "\n",
    "**ANSWER**: **Yes!** I still hacen't performed a rigorous quantitative analysis, but looking at the estimate (`coevolution_toy_estimation/pipeline_w_ancestral_states/Q2__32_families__None_seqs_None_sites_None_RM_None_angstrom__0.06_center_0.1_step_size_50_n_steps_False_outliers_1000.0_max_height_1000_max_path_height__1000_epochs/learned_matrix.txt`) we see that is it quite similar to the ground truth (`WAG_x_WAG_matrix.txt`). In particular, the optimizer wasn't told which entries of the matrix are 0, and yet it seems to have figures them out very well.\n"
   ],
   "cell_type": "markdown",
   "metadata": {}
  },
  {
   "source": [
    "# Global parameters"
   ],
   "cell_type": "markdown",
   "metadata": {}
  },
  {
   "cell_type": "code",
   "execution_count": null,
   "metadata": {},
   "outputs": [],
   "source": [
    "experiment_rootdir = \"coevolution_toy_estimation\"\n",
    "n_process = 32"
   ]
  },
  {
   "source": [
    "# Imports"
   ],
   "cell_type": "markdown",
   "metadata": {}
  },
  {
   "cell_type": "code",
   "execution_count": null,
   "metadata": {},
   "outputs": [],
   "source": [
    "import sys\n",
    "sys.path.append('../')\n",
    "import os\n",
    "import time\n",
    "import logging\n",
    "import numpy as np\n",
    "import pandas as pd\n",
    "import Phylo_util\n",
    "\n",
    "if not os.path.exists(experiment_rootdir):\n",
    "    os.makedirs(experiment_rootdir)\n",
    "\n",
    "def init_logger():\n",
    "    logger = logging.getLogger('phylo_correction')\n",
    "    logger.setLevel(logging.DEBUG)\n",
    "    fmt_str = \"[%(asctime)s] - %(name)s - %(levelname)s - %(message)s\"\n",
    "    formatter = logging.Formatter(fmt_str)\n",
    "\n",
    "    consoleHandler = logging.StreamHandler(sys.stdout)\n",
    "    consoleHandler.setFormatter(formatter)\n",
    "    logger.addHandler(consoleHandler)\n",
    "\n",
    "    fileHandler = logging.FileHandler(\"Phylo-correction.log\")\n",
    "    fileHandler.setFormatter(formatter)\n",
    "    logger.addHandler(fileHandler)\n",
    "\n",
    "init_logger()"
   ]
  },
  {
   "source": [
    "# First we simulate realistic *ground truth trees*"
   ],
   "cell_type": "markdown",
   "metadata": {}
  },
  {
   "cell_type": "code",
   "execution_count": null,
   "metadata": {},
   "outputs": [],
   "source": [
    "from src.phylogeny_generation import PhylogenyGenerator\n",
    "from src.simulation import Simulator\n",
    "from src.pipeline import Pipeline\n",
    "\n",
    "a3m_dir = '../test_input_data/a3m_32_families'\n",
    "pdb_dir = '../test_input_data/pdb_32_families'\n",
    "ground_truth_tree_dir = f'{experiment_rootdir}/trees_ground_truth'\n",
    "\n",
    "def simulate_ground_truth_trees():\n",
    "    ground_truth_phylogeny_generator = PhylogenyGenerator(\n",
    "        a3m_dir=a3m_dir,\n",
    "        n_process=n_process,\n",
    "        expected_number_of_MSAs=32,\n",
    "        outdir=ground_truth_tree_dir,\n",
    "        max_seqs=1024,\n",
    "        max_sites=1024,\n",
    "        rate_matrix='../input_data/synthetic_rate_matrices/WAG_FastTree.txt',\n",
    "        use_cached=True,\n",
    "        max_families=32,\n",
    "    )\n",
    "    ground_truth_phylogeny_generator.run()\n",
    "\n",
    "simulate_ground_truth_trees()"
   ]
  },
  {
   "source": [
    "# Simulate MSAs on the ground truth trees using WAG x WAG. (We will try to recover WAG x WAG from this data!)"
   ],
   "cell_type": "markdown",
   "metadata": {}
  },
  {
   "cell_type": "code",
   "execution_count": null,
   "metadata": {},
   "outputs": [],
   "source": [
    "# Create WAG x WAG matrix\n",
    "WAG_x_WAG_matrix_path = f\"{experiment_rootdir}/WAG_x_WAG_matrix.txt\"\n",
    "\n",
    "def create_WAG_x_WAG_matrix():\n",
    "    import numpy as np\n",
    "    import pandas as pd\n",
    "    WAG_matrix = pd.read_csv(\"../input_data/synthetic_rate_matrices/WAG_matrix.txt\", sep=\"\\t\", index_col=0, keep_default_na=False, na_values=[\"\"])\n",
    "\n",
    "    amino_acids = [\"A\", \"R\", \"N\", \"D\", \"C\", \"Q\", \"E\", \"G\", \"H\", \"I\", \"L\", \"K\", \"M\", \"F\", \"P\", \"S\", \"T\", \"W\", \"Y\", \"V\"]\n",
    "    pairs_of_aa = []\n",
    "    for aa1 in amino_acids:\n",
    "        for aa2 in amino_acids:\n",
    "            pairs_of_aa.append(aa1 + aa2)\n",
    "    WAG_x_WAG_matrix = pd.DataFrame(np.zeros(shape=(400, 400)), index=pairs_of_aa, columns=pairs_of_aa)\n",
    "\n",
    "    for aa1 in amino_acids:\n",
    "        for aa2 in amino_acids:\n",
    "            for aa3 in amino_acids:\n",
    "                for aa4 in amino_acids:\n",
    "                    if (aa1 == aa3) and (aa2 == aa4):\n",
    "                        WAG_x_WAG_matrix.loc[aa1 + aa2, aa1 + aa2] = WAG_matrix.loc[aa1, aa1] + WAG_matrix.loc[aa2, aa2]\n",
    "                    elif (aa1 == aa3):\n",
    "                        WAG_x_WAG_matrix.loc[aa1 + aa2, aa1 + aa4] = WAG_matrix.loc[aa2, aa4]\n",
    "                    elif (aa2 == aa4):\n",
    "                        WAG_x_WAG_matrix.loc[aa1 + aa2, aa3 + aa2] = WAG_matrix.loc[aa1, aa3]\n",
    "    WAG_x_WAG_matrix.to_csv(WAG_x_WAG_matrix_path, sep=\"\\t\")\n",
    "\n",
    "create_WAG_x_WAG_matrix()"
   ]
  },
  {
   "cell_type": "code",
   "execution_count": null,
   "metadata": {},
   "outputs": [],
   "source": [
    "a3m_simulated_dir = f'{experiment_rootdir}/a3m_simulated'\n",
    "contact_simulated_dir = f'{experiment_rootdir}/contacts_simulated'\n",
    "ancestral_states_simulated_dir = f'{experiment_rootdir}/ancestral_states_simulated'\n",
    "\n",
    "def simulate_ground_truth_MSAs():\n",
    "    ground_truth_MSA_simulator = Simulator(\n",
    "        a3m_dir=a3m_dir,\n",
    "        tree_dir=ground_truth_tree_dir,\n",
    "        a3m_simulated_dir=a3m_simulated_dir,\n",
    "        contact_simulated_dir=contact_simulated_dir,\n",
    "        ancestral_states_simulated_dir=ancestral_states_simulated_dir,\n",
    "        n_process=n_process,\n",
    "        expected_number_of_MSAs=32,\n",
    "        max_families=32,\n",
    "        simulation_pct_interacting_positions=1.0,  # So that ALL positions evolve under the WAG x WAG matrix.\n",
    "        Q1_ground_truth=\"../input_data/synthetic_rate_matrices/WAG_matrix.txt\", # Doesn't matter\n",
    "        Q2_ground_truth=WAG_x_WAG_matrix_path,\n",
    "        use_cached=True,\n",
    "    )\n",
    "    ground_truth_MSA_simulator.run()\n",
    "\n",
    "simulate_ground_truth_MSAs()"
   ]
  },
  {
   "cell_type": "code",
   "execution_count": null,
   "metadata": {
    "tags": []
   },
   "outputs": [],
   "source": [
    "def run_pipeline_w_ancestral_states():\n",
    "    pipeline = Pipeline(\n",
    "        outdir=f\"{experiment_rootdir}/pipeline_w_ancestral_states\",\n",
    "        max_seqs=None,\n",
    "        max_sites=None,\n",
    "        armstrong_cutoff=None,\n",
    "        rate_matrix=None,\n",
    "        n_process=32,\n",
    "        expected_number_of_MSAs=32,\n",
    "        max_families=32,\n",
    "        a3m_dir=a3m_simulated_dir,\n",
    "        pdb_dir=None,\n",
    "        use_cached=True,\n",
    "        num_epochs=1000,\n",
    "        device='cpu',\n",
    "        center=0.06,\n",
    "        step_size=0.1,\n",
    "        n_steps=50,\n",
    "        keep_outliers=False,\n",
    "        max_height=1000.0,\n",
    "        max_path_height=1000,\n",
    "        precomputed_contact_dir=contact_simulated_dir,\n",
    "        precomputed_tree_dir=None,\n",
    "        precomputed_maximum_parsimony_dir=ancestral_states_simulated_dir,\n",
    "        learn_pairwise_model=True,\n",
    "    )\n",
    "    pipeline.run()\n",
    "\n",
    "run_pipeline_w_ancestral_states()"
   ]
  },
  {
   "cell_type": "code",
   "execution_count": null,
   "metadata": {},
   "outputs": [],
   "source": []
  },
  {
   "cell_type": "code",
   "execution_count": null,
   "metadata": {},
   "outputs": [],
   "source": []
  }
 ]
}