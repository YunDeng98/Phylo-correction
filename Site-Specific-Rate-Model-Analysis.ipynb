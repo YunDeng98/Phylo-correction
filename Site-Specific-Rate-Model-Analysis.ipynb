{
 "cells": [
  {
   "cell_type": "markdown",
   "id": "7190aa63",
   "metadata": {},
   "source": [
    "# Repro old results: No site rates in method nor in simulation"
   ]
  },
  {
   "cell_type": "code",
   "execution_count": 1,
   "id": "56b6242a",
   "metadata": {},
   "outputs": [
    {
     "name": "stderr",
     "output_type": "stream",
     "text": [
      "100%|██████████| 32/32 [00:00<00:00, 9314.85it/s]\n",
      "100%|██████████| 32/32 [00:00<00:00, 12930.42it/s]\n",
      "100%|██████████| 32/32 [00:00<00:00, 3881.14it/s]\n",
      "100%|██████████| 32/32 [00:00<00:00, 3081.36it/s]\n",
      "100%|██████████| 32/32 [00:00<00:00, 2037.68it/s]\n",
      "100%|██████████| 32/32 [00:00<00:00, 2452.36it/s]\n",
      "100%|██████████| 32/32 [00:00<00:00, 4580.34it/s]\n",
      "100%|██████████| 32/32 [00:00<00:00, 3203.75it/s]\n",
      "100%|██████████| 32/32 [00:00<00:00, 7515.83it/s]\n",
      "100%|██████████| 32/32 [00:00<00:00, 3713.21it/s]\n",
      "100%|██████████| 32/32 [00:00<00:00, 3831.51it/s]"
     ]
    },
    {
     "name": "stdout",
     "output_type": "stream",
     "text": [
      "CPU times: user 3.83 s, sys: 9.1 s, total: 12.9 s\n",
      "Wall time: 9.44 s\n"
     ]
    },
    {
     "name": "stderr",
     "output_type": "stream",
     "text": [
      "\n"
     ]
    }
   ],
   "source": [
    "%%time\n",
    "from src.pipeline import Pipeline\n",
    "from src.end_to_end_simulation import EndToEndSimulator\n",
    "from collections import defaultdict\n",
    "\n",
    "experiment_rootdir = \"cache_site_rates_real\"\n",
    "\n",
    "def run_experiment_and_return_learned_rate_matrices():\n",
    "    learned_rate_matrices = defaultdict(dict)\n",
    "    num_transitions = defaultdict(dict)\n",
    "    for max_families in max_families_list:\n",
    "        pipeline = Pipeline(\n",
    "            outdir=f\"{experiment_rootdir}/pipeline\",\n",
    "            max_seqs=1024,\n",
    "            max_sites=1024,\n",
    "            armstrong_cutoff=8.0,\n",
    "            rate_matrix='input_data/synthetic_rate_matrices/WAG_FastTree.txt',\n",
    "            n_process=32,\n",
    "            expected_number_of_MSAs=15051,\n",
    "            max_families=max_families,\n",
    "            a3m_dir='input_data/a3m',\n",
    "            pdb_dir='input_data/pdb',\n",
    "            use_cached=True,\n",
    "            num_epochs=200,\n",
    "            device='cpu',\n",
    "            center=0.06,\n",
    "            step_size=0.1,\n",
    "            n_steps=50,\n",
    "            keep_outliers=False,\n",
    "            max_height=1000.0,\n",
    "            max_path_height=1000,\n",
    "            precomputed_contact_dir=None,\n",
    "            precomputed_tree_dir=None,\n",
    "            precomputed_maximum_parsimony_dir=None,\n",
    "            edge_or_cherry=\"cherry\",\n",
    "            init_jtt_ipw=True,\n",
    "            method=[\"MLE\"],\n",
    "            xrate_grammar=None,\n",
    "            fast_tree_cats=20,\n",
    "            use_site_specific_rates=False,\n",
    "        )\n",
    "        pipeline.run()\n",
    "        learned_rate_matrices['real_data'][max_families] = pipeline.get_learned_Q1()\n",
    "        num_transitions['real_data'][max_families] = pipeline.get_number_of_single_site_transitions()\n",
    "\n",
    "        end_to_end_simulator = EndToEndSimulator(\n",
    "            outdir=f\"{experiment_rootdir}/end_to_end_simulator\",\n",
    "            pipeline=pipeline,\n",
    "            simulation_pct_interacting_positions=0.0,\n",
    "            use_site_specific_rates_in_simulation=False,\n",
    "            Q1_ground_truth=\"input_data/synthetic_rate_matrices/WAG_matrix.txt\",\n",
    "            Q2_ground_truth=\"input_data/synthetic_rate_matrices/Q2_uniform_constrained.txt\",\n",
    "            fast_tree_rate_matrix='input_data/synthetic_rate_matrices/WAG_FastTree.txt',\n",
    "            fast_tree_cats=20,\n",
    "            use_site_specific_rates=False,\n",
    "            simulate_end_to_end=True,\n",
    "            simulate_from_trees_wo_ancestral_states=True,\n",
    "            simulate_from_trees_w_ancestral_states=True,\n",
    "            use_cached=True,\n",
    "        )\n",
    "        end_to_end_simulator.run()\n",
    "        learned_rate_matrices['w_ancestral_states'][max_families] = end_to_end_simulator.pipeline_on_simulated_data_from_trees_w_ancestral_states.get_learned_Q1()\n",
    "        learned_rate_matrices['wo_ancestral_states'][max_families] = end_to_end_simulator.pipeline_on_simulated_data_from_trees_wo_ancestral_states.get_learned_Q1()\n",
    "        learned_rate_matrices['end_to_end'][max_families] = end_to_end_simulator.pipeline_on_simulated_data_end_to_end.get_learned_Q1()\n",
    "    return learned_rate_matrices, num_transitions\n",
    "max_families_list = [32]\n",
    "learned_rate_matrices_orig, num_transitions_orig = run_experiment_and_return_learned_rate_matrices()"
   ]
  },
  {
   "cell_type": "markdown",
   "id": "12e0aa22",
   "metadata": {},
   "source": [
    "# Break old method: no site rates in method, yes in simulations"
   ]
  },
  {
   "cell_type": "markdown",
   "id": "a531b147",
   "metadata": {},
   "source": [
    "# Only caveat is that because we use site-specific rates in simulation, only 1024 sites will be used per family, making the simulated data potentially smaller for families larger that 1024. But I expect deteriorated performance to be due to not accounting for site rates"
   ]
  },
  {
   "cell_type": "code",
   "execution_count": 2,
   "id": "26003077",
   "metadata": {},
   "outputs": [
    {
     "name": "stderr",
     "output_type": "stream",
     "text": [
      "100%|██████████| 32/32 [00:00<00:00, 5299.81it/s]\n",
      "100%|██████████| 32/32 [00:00<00:00, 7951.76it/s]\n",
      "100%|██████████| 32/32 [00:00<00:00, 4391.51it/s]\n",
      "100%|██████████| 32/32 [00:00<00:00, 10811.80it/s]\n",
      "100%|██████████| 32/32 [00:00<00:00, 5290.20it/s]\n",
      "100%|██████████| 32/32 [00:00<00:00, 2828.08it/s]\n",
      "100%|██████████| 32/32 [00:00<00:00, 3263.18it/s]\n",
      "100%|██████████| 32/32 [00:00<00:00, 4813.78it/s]\n",
      "100%|██████████| 32/32 [00:00<00:00, 4424.08it/s]\n",
      "100%|██████████| 32/32 [00:00<00:00, 3349.58it/s]\n",
      "100%|██████████| 32/32 [00:00<00:00, 4339.40it/s]"
     ]
    },
    {
     "name": "stdout",
     "output_type": "stream",
     "text": [
      "CPU times: user 964 ms, sys: 5.84 s, total: 6.81 s\n",
      "Wall time: 7.29 s\n"
     ]
    },
    {
     "name": "stderr",
     "output_type": "stream",
     "text": [
      "\n"
     ]
    }
   ],
   "source": [
    "%%time\n",
    "from src.pipeline import Pipeline\n",
    "from src.end_to_end_simulation import EndToEndSimulator\n",
    "from collections import defaultdict\n",
    "\n",
    "experiment_rootdir = \"cache_site_rates_real\"\n",
    "\n",
    "def run_experiment_and_return_learned_rate_matrices():\n",
    "    learned_rate_matrices = defaultdict(dict)\n",
    "    num_transitions = defaultdict(dict)\n",
    "    for max_families in max_families_list:\n",
    "        pipeline = Pipeline(\n",
    "            outdir=f\"{experiment_rootdir}/pipeline\",\n",
    "            max_seqs=1024,\n",
    "            max_sites=1024,\n",
    "            armstrong_cutoff=8.0,\n",
    "            rate_matrix='input_data/synthetic_rate_matrices/WAG_FastTree.txt',\n",
    "            n_process=32,\n",
    "            expected_number_of_MSAs=15051,\n",
    "            max_families=max_families,\n",
    "            a3m_dir='input_data/a3m',\n",
    "            pdb_dir='input_data/pdb',\n",
    "            use_cached=True,\n",
    "            num_epochs=200,\n",
    "            device='cpu',\n",
    "            center=0.06,\n",
    "            step_size=0.1,\n",
    "            n_steps=50,\n",
    "            keep_outliers=False,\n",
    "            max_height=1000.0,\n",
    "            max_path_height=1000,\n",
    "            precomputed_contact_dir=None,\n",
    "            precomputed_tree_dir=None,\n",
    "            precomputed_maximum_parsimony_dir=None,\n",
    "            edge_or_cherry=\"cherry\",\n",
    "            init_jtt_ipw=True,\n",
    "            method=[\"MLE\"],\n",
    "            xrate_grammar=None,\n",
    "            fast_tree_cats=20,\n",
    "            use_site_specific_rates=False,\n",
    "        )\n",
    "        pipeline.run()\n",
    "        learned_rate_matrices['real_data'][max_families] = pipeline.get_learned_Q1()\n",
    "        num_transitions['real_data'][max_families] = pipeline.get_number_of_single_site_transitions()\n",
    "\n",
    "        end_to_end_simulator = EndToEndSimulator(\n",
    "            outdir=f\"{experiment_rootdir}/end_to_end_simulator\",\n",
    "            pipeline=pipeline,\n",
    "            simulation_pct_interacting_positions=0.0,\n",
    "            use_site_specific_rates_in_simulation=True,  # False, <== Only this chages! (The simulation)\n",
    "            Q1_ground_truth=\"input_data/synthetic_rate_matrices/WAG_matrix.txt\",\n",
    "            Q2_ground_truth=\"input_data/synthetic_rate_matrices/Q2_uniform_constrained.txt\",\n",
    "            fast_tree_rate_matrix='input_data/synthetic_rate_matrices/WAG_FastTree.txt',\n",
    "            fast_tree_cats=20,\n",
    "            use_site_specific_rates=False,\n",
    "            simulate_end_to_end=True,\n",
    "            simulate_from_trees_wo_ancestral_states=True,\n",
    "            simulate_from_trees_w_ancestral_states=True,\n",
    "            use_cached=True,\n",
    "        )\n",
    "        end_to_end_simulator.run()\n",
    "        learned_rate_matrices['w_ancestral_states'][max_families] = end_to_end_simulator.pipeline_on_simulated_data_from_trees_w_ancestral_states.get_learned_Q1()\n",
    "        learned_rate_matrices['wo_ancestral_states'][max_families] = end_to_end_simulator.pipeline_on_simulated_data_from_trees_wo_ancestral_states.get_learned_Q1()\n",
    "        learned_rate_matrices['end_to_end'][max_families] = end_to_end_simulator.pipeline_on_simulated_data_end_to_end.get_learned_Q1()\n",
    "    return learned_rate_matrices, num_transitions\n",
    "max_families_list = [32]\n",
    "learned_rate_matrices_orig_break, num_transitions_orig_break = run_experiment_and_return_learned_rate_matrices()"
   ]
  },
  {
   "cell_type": "markdown",
   "id": "b95392c6",
   "metadata": {},
   "source": [
    "# Now fix the method by taking into account site rate variation"
   ]
  },
  {
   "cell_type": "code",
   "execution_count": 3,
   "id": "19790942",
   "metadata": {},
   "outputs": [
    {
     "name": "stderr",
     "output_type": "stream",
     "text": [
      "100%|██████████| 32/32 [00:00<00:00, 3675.79it/s]\n",
      "100%|██████████| 32/32 [00:00<00:00, 6544.01it/s]\n",
      "100%|██████████| 32/32 [00:00<00:00, 3562.23it/s]\n",
      "100%|██████████| 32/32 [00:00<00:00, 5635.61it/s]\n",
      "100%|██████████| 32/32 [00:00<00:00, 5744.15it/s]\n",
      "100%|██████████| 32/32 [00:00<00:00, 1916.05it/s]\n",
      "100%|██████████| 32/32 [00:00<00:00, 3221.66it/s]\n",
      "100%|██████████| 32/32 [00:00<00:00, 68900.27it/s]\n",
      "100%|██████████| 32/32 [00:00<00:00, 5214.36it/s]\n",
      "100%|██████████| 32/32 [00:00<00:00, 7001.45it/s]\n",
      "100%|██████████| 32/32 [00:00<00:00, 6096.65it/s]"
     ]
    },
    {
     "name": "stdout",
     "output_type": "stream",
     "text": [
      "CPU times: user 952 ms, sys: 5.82 s, total: 6.78 s\n",
      "Wall time: 7.28 s\n"
     ]
    },
    {
     "name": "stderr",
     "output_type": "stream",
     "text": [
      "\n"
     ]
    }
   ],
   "source": [
    "%%time\n",
    "from src.pipeline import Pipeline\n",
    "from src.end_to_end_simulation import EndToEndSimulator\n",
    "from collections import defaultdict\n",
    "\n",
    "experiment_rootdir = \"cache_site_rates_real\"\n",
    "\n",
    "def run_experiment_and_return_learned_rate_matrices():\n",
    "    learned_rate_matrices = defaultdict(dict)\n",
    "    num_transitions = defaultdict(dict)\n",
    "    for max_families in max_families_list:\n",
    "        pipeline = Pipeline(\n",
    "            outdir=f\"{experiment_rootdir}/pipeline\",\n",
    "            max_seqs=1024,\n",
    "            max_sites=1024,\n",
    "            armstrong_cutoff=8.0,\n",
    "            rate_matrix='input_data/synthetic_rate_matrices/WAG_FastTree.txt',\n",
    "            n_process=32,\n",
    "            expected_number_of_MSAs=15051,\n",
    "            max_families=max_families,\n",
    "            a3m_dir='input_data/a3m',\n",
    "            pdb_dir='input_data/pdb',\n",
    "            use_cached=True,\n",
    "            num_epochs=200,\n",
    "            device='cpu',\n",
    "            center=0.06,\n",
    "            step_size=0.1,\n",
    "            n_steps=50,\n",
    "            keep_outliers=False,\n",
    "            max_height=1000.0,\n",
    "            max_path_height=1000,\n",
    "            precomputed_contact_dir=None,\n",
    "            precomputed_tree_dir=None,\n",
    "            precomputed_maximum_parsimony_dir=None,\n",
    "            edge_or_cherry=\"cherry\",\n",
    "            init_jtt_ipw=True,\n",
    "            method=[\"MLE\"],\n",
    "            xrate_grammar=None,\n",
    "            fast_tree_cats=20,\n",
    "            use_site_specific_rates=True,  # False, <== This should fix it!\n",
    "        )\n",
    "        pipeline.run()\n",
    "        learned_rate_matrices['real_data'][max_families] = pipeline.get_learned_Q1()\n",
    "        num_transitions['real_data'][max_families] = pipeline.get_number_of_single_site_transitions()\n",
    "\n",
    "        end_to_end_simulator = EndToEndSimulator(\n",
    "            outdir=f\"{experiment_rootdir}/end_to_end_simulator\",\n",
    "            pipeline=pipeline,\n",
    "            simulation_pct_interacting_positions=0.0,\n",
    "            use_site_specific_rates_in_simulation=True,  # False, <== Only this chages! (The simulation)\n",
    "            Q1_ground_truth=\"input_data/synthetic_rate_matrices/WAG_matrix.txt\",\n",
    "            Q2_ground_truth=\"input_data/synthetic_rate_matrices/Q2_uniform_constrained.txt\",\n",
    "            fast_tree_rate_matrix='input_data/synthetic_rate_matrices/WAG_FastTree.txt',\n",
    "            fast_tree_cats=20,\n",
    "            use_site_specific_rates=True,  # False, <== This should fix it!\n",
    "            simulate_end_to_end=True,\n",
    "            simulate_from_trees_wo_ancestral_states=True,\n",
    "            simulate_from_trees_w_ancestral_states=True,\n",
    "            use_cached=True,\n",
    "        )\n",
    "        end_to_end_simulator.run()\n",
    "        learned_rate_matrices['w_ancestral_states'][max_families] = end_to_end_simulator.pipeline_on_simulated_data_from_trees_w_ancestral_states.get_learned_Q1()\n",
    "        learned_rate_matrices['wo_ancestral_states'][max_families] = end_to_end_simulator.pipeline_on_simulated_data_from_trees_wo_ancestral_states.get_learned_Q1()\n",
    "        learned_rate_matrices['end_to_end'][max_families] = end_to_end_simulator.pipeline_on_simulated_data_end_to_end.get_learned_Q1()\n",
    "    return learned_rate_matrices, num_transitions\n",
    "max_families_list = [32]\n",
    "learned_rate_matrices_orig_fixed, num_transitions_orig_fixed = run_experiment_and_return_learned_rate_matrices()"
   ]
  },
  {
   "cell_type": "markdown",
   "id": "7e9e46a8",
   "metadata": {},
   "source": [
    "# Analysis code"
   ]
  },
  {
   "cell_type": "code",
   "execution_count": 4,
   "id": "326170b6",
   "metadata": {},
   "outputs": [
    {
     "name": "stdout",
     "output_type": "stream",
     "text": [
      "***** Original *****\n",
      "*************** #families = 32 ***************\n"
     ]
    },
    {
     "data": {
      "image/png": "[encoded data removed]",
      "text/plain": [
       "<Figure size 640x160 with 3 Axes>"
      ]
     },
     "metadata": {
      "needs_background": "light"
     },
     "output_type": "display_data"
    },
    {
     "name": "stdout",
     "output_type": "stream",
     "text": [
      "***** Original Break *****\n",
      "*************** #families = 32 ***************\n"
     ]
    },
    {
     "data": {
      "image/png": "[encoded data removed]",
      "text/plain": [
       "<Figure size 640x160 with 3 Axes>"
      ]
     },
     "metadata": {
      "needs_background": "light"
     },
     "output_type": "display_data"
    },
    {
     "name": "stdout",
     "output_type": "stream",
     "text": [
      "***** Original Fixed *****\n",
      "*************** #families = 32 ***************\n"
     ]
    },
    {
     "data": {
      "image/png": "[encoded data removed]",
      "text/plain": [
       "<Figure size 640x160 with 3 Axes>"
      ]
     },
     "metadata": {
      "needs_background": "light"
     },
     "output_type": "display_data"
    }
   ],
   "source": [
    "import matplotlib.pyplot as plt\n",
    "from matplotlib.pyplot import figure\n",
    "import Phylo_util\n",
    "import numpy as np\n",
    "import pandas as pd\n",
    "SRC_DIR = \"./\"\n",
    "\n",
    "def normalized(Q):\n",
    "    pi = Phylo_util.solve_stationery_dist(Q)\n",
    "    mutation_rate = pi @ -np.diag(Q)\n",
    "    return Q / mutation_rate\n",
    "\n",
    "def log_log_plot(Q_true, Q_true_name, Q_pred, Q_pred_name, normalize=False):\n",
    "    if normalize:\n",
    "        plt.scatter(np.log(np.abs(normalized(Q_true))), np.log(np.abs(normalized(Q_pred))), alpha=0.3)\n",
    "        plt.xlabel(f'Normalized {Q_true_name}')\n",
    "        plt.ylabel(f'Normalized {Q_pred_name}')\n",
    "    else:\n",
    "        plt.scatter(np.log(np.abs(Q_true)), np.log(np.abs(Q_pred)), alpha=0.3)\n",
    "        plt.xlabel(f'{Q_true_name}')\n",
    "        plt.ylabel(f'{Q_pred_name}')\n",
    "    plt.xlim([-10, 0])\n",
    "    plt.ylim([-10, 0])\n",
    "    plt.plot([-10, 0], [-10, 0], color='r')\n",
    "\n",
    "def plot_convergence_to_WAG_for_simulated_data(learned_rate_matrices):\n",
    "    # For the simulated data, plot the ground truth (WAG) against the estimates.\n",
    "    WAG_matrix = np.array(pd.read_csv(f\"{SRC_DIR}input_data/synthetic_rate_matrices/WAG_matrix.txt\", sep=\"\\t\", index_col=0))\n",
    "    for max_families in max_families_list:\n",
    "        print(\"*\" * 15 + f\" #families = {max_families} \" + \"*\" * 15)\n",
    "        for normalize in [True]:\n",
    "            figure(figsize=(8, 2), dpi=80)\n",
    "            plt.subplot(1, 3, 1)\n",
    "            log_log_plot(WAG_matrix, \"WAG\", learned_rate_matrices['w_ancestral_states'][max_families], \"w ancestral states\", normalize=normalize)\n",
    "            plt.subplot(1, 3, 2)\n",
    "            log_log_plot(WAG_matrix, \"WAG\", learned_rate_matrices['wo_ancestral_states'][max_families], \"wo ancestral states\", normalize=normalize)\n",
    "            plt.subplot(1, 3, 3)\n",
    "            log_log_plot(WAG_matrix, \"WAG\", learned_rate_matrices['end_to_end'][max_families], \"end-to-end\", normalize=normalize)\n",
    "            plt.tight_layout()\n",
    "            plt.show()\n",
    "\n",
    "print(\"***** Original *****\")\n",
    "plot_convergence_to_WAG_for_simulated_data(learned_rate_matrices_orig)\n",
    "print(\"***** Original Break *****\")\n",
    "plot_convergence_to_WAG_for_simulated_data(learned_rate_matrices_orig_break)\n",
    "print(\"***** Original Fixed *****\")\n",
    "plot_convergence_to_WAG_for_simulated_data(learned_rate_matrices_orig_fixed)"
   ]
  },
  {
   "cell_type": "markdown",
   "id": "e1949ba2",
   "metadata": {},
   "source": [
    "### Simulation Results w_ancestral_states (==wo_ancestral_states)"
   ]
  },
  {
   "cell_type": "code",
   "execution_count": 5,
   "id": "e3640856",
   "metadata": {},
   "outputs": [
    {
     "data": {
      "text/plain": [
       "array([[-1.08213263,  0.0246567 ,  0.02026082],\n",
       "       [ 0.04857542, -0.94377723,  0.02524798],\n",
       "       [ 0.04490099,  0.02840167, -1.40691003]])"
      ]
     },
     "execution_count": 5,
     "metadata": {},
     "output_type": "execute_result"
    }
   ],
   "source": [
    "WAG_matrix = np.array(pd.read_csv(f\"{SRC_DIR}input_data/synthetic_rate_matrices/WAG_matrix.txt\", sep=\"\\t\", index_col=0))\n",
    "normalized(WAG_matrix[:3, :3])"
   ]
  },
  {
   "cell_type": "code",
   "execution_count": 6,
   "id": "1a4debba",
   "metadata": {},
   "outputs": [
    {
     "data": {
      "text/plain": [
       "array([[-1.08486809,  0.02430046,  0.02146277],\n",
       "       [ 0.04785335, -0.94418713,  0.0239846 ],\n",
       "       [ 0.04841412,  0.02747393, -1.43701412]])"
      ]
     },
     "execution_count": 6,
     "metadata": {},
     "output_type": "execute_result"
    }
   ],
   "source": [
    "normalized(learned_rate_matrices_orig['w_ancestral_states'][32][:3,:3])"
   ]
  },
  {
   "cell_type": "code",
   "execution_count": 7,
   "id": "e9ea95e2",
   "metadata": {},
   "outputs": [
    {
     "data": {
      "text/plain": [
       "array([[-1.02934308,  0.02637443,  0.02309504],\n",
       "       [ 0.05360965, -0.94843243,  0.02769675],\n",
       "       [ 0.05170874,  0.03050803, -1.337867  ]])"
      ]
     },
     "execution_count": 7,
     "metadata": {},
     "output_type": "execute_result"
    }
   ],
   "source": [
    "normalized(learned_rate_matrices_orig_break['w_ancestral_states'][32][:3,:3])  # => This will not converge to WAG because it doesn't use the site rates"
   ]
  },
  {
   "cell_type": "code",
   "execution_count": 8,
   "id": "00c21b1a",
   "metadata": {},
   "outputs": [
    {
     "data": {
      "text/plain": [
       "array([[-1.07103845,  0.02557167,  0.02052605],\n",
       "       [ 0.05084371, -0.94408121,  0.02505369],\n",
       "       [ 0.04550057,  0.0279322 , -1.40234745]])"
      ]
     },
     "execution_count": 8,
     "metadata": {},
     "output_type": "execute_result"
    }
   ],
   "source": [
    "normalized(learned_rate_matrices_orig_fixed['w_ancestral_states'][32][:3,:3])  # => It is expected that this converges to WAG"
   ]
  },
  {
   "cell_type": "markdown",
   "id": "83028566",
   "metadata": {},
   "source": [
    "### Simulation results end-to-end"
   ]
  },
  {
   "cell_type": "code",
   "execution_count": 9,
   "id": "322949b0",
   "metadata": {},
   "outputs": [
    {
     "data": {
      "text/plain": [
       "array([[-1.0865722 ,  0.02405835,  0.02132089],\n",
       "       [ 0.04736543, -0.94429819,  0.02397394],\n",
       "       [ 0.04807267,  0.02745596, -1.44159981]])"
      ]
     },
     "execution_count": 9,
     "metadata": {},
     "output_type": "execute_result"
    }
   ],
   "source": [
    "normalized(learned_rate_matrices_orig['end_to_end'][32][:3,:3])  # => This shows that even wo the trees, our method performs well in simulations without rate variation. Will it perform well _with_ rate variation? See two cells below!"
   ]
  },
  {
   "cell_type": "code",
   "execution_count": 10,
   "id": "6c915264",
   "metadata": {},
   "outputs": [
    {
     "data": {
      "text/plain": [
       "array([[-1.02837976,  0.02639859,  0.02284775],\n",
       "       [ 0.05367709, -0.94883263,  0.02758254],\n",
       "       [ 0.05125498,  0.03043117, -1.33977501]])"
      ]
     },
     "execution_count": 10,
     "metadata": {},
     "output_type": "execute_result"
    }
   ],
   "source": [
    "normalized(learned_rate_matrices_orig_break['end_to_end'][32][:3,:3])  # => This already did not converge with the trees. We don't expect it to do well here - only worse. As we can see, it performs almost identically."
   ]
  },
  {
   "cell_type": "code",
   "execution_count": 11,
   "id": "3d0f845a",
   "metadata": {},
   "outputs": [
    {
     "data": {
      "text/plain": [
       "array([[-1.07225122,  0.02564284,  0.02029339],\n",
       "       [ 0.05093157, -0.94407691,  0.02487415],\n",
       "       [ 0.04503241,  0.0277906 , -1.4061584 ]])"
      ]
     },
     "execution_count": 11,
     "metadata": {},
     "output_type": "execute_result"
    }
   ],
   "source": [
    "normalized(learned_rate_matrices_orig_fixed['end_to_end'][32][:3,:3])  # => Okay this is the huge one. Because our model now needs to reconstruct the trees AND infer the site rates... Will it do as well as with access to the trees and site rates? It does!"
   ]
  },
  {
   "cell_type": "code",
   "execution_count": null,
   "id": "fbac8649",
   "metadata": {},
   "outputs": [],
   "source": []
  }
 ],
 "metadata": {
  "kernelspec": {
   "display_name": "Python 3",
   "language": "python",
   "name": "python3"
  },
  "language_info": {
   "codemirror_mode": {
    "name": "ipython",
    "version": 3
   },
   "file_extension": ".py",
   "mimetype": "text/x-python",
   "name": "python",
   "nbconvert_exporter": "python",
   "pygments_lexer": "ipython3",
   "version": "3.8.5"
  }
 },
 "nbformat": 4,
 "nbformat_minor": 5
}
