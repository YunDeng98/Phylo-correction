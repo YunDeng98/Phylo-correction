{
 "cells": [
  {
   "cell_type": "markdown",
   "id": "7190aa63",
   "metadata": {},
   "source": [
    "# Repro old results: No site rates in method nor in simulation"
   ]
  },
  {
   "cell_type": "code",
   "execution_count": 1,
   "id": "56b6242a",
   "metadata": {},
   "outputs": [
    {
     "name": "stderr",
     "output_type": "stream",
     "text": [
      "100%|██████████| 3912/3912 [00:00<00:00, 12613.23it/s]\n",
      "100%|██████████| 3912/3912 [00:00<00:00, 16031.60it/s]\n",
      "100%|██████████| 3912/3912 [00:00<00:00, 11175.88it/s]\n",
      "100%|██████████| 3912/3912 [00:00<00:00, 10717.70it/s]\n",
      "100%|██████████| 3912/3912 [00:00<00:00, 11358.91it/s]\n",
      "100%|██████████| 3912/3912 [00:00<00:00, 11354.61it/s]\n",
      "100%|██████████| 3912/3912 [00:00<00:00, 12152.85it/s]\n",
      "100%|██████████| 3912/3912 [00:00<00:00, 10428.80it/s]\n",
      "100%|██████████| 3912/3912 [00:00<00:00, 10837.39it/s]\n",
      "100%|██████████| 3912/3912 [00:00<00:00, 12465.44it/s]"
     ]
    },
    {
     "name": "stdout",
     "output_type": "stream",
     "text": [
      "CPU times: user 6.54 s, sys: 10.6 s, total: 17.1 s\n",
      "Wall time: 11.8 s\n"
     ]
    },
    {
     "name": "stderr",
     "output_type": "stream",
     "text": [
      "\n"
     ]
    }
   ],
   "source": [
    "%%time\n",
    "from src.pipeline import Pipeline\n",
    "from src.end_to_end_simulation import EndToEndSimulator\n",
    "from collections import defaultdict\n",
    "\n",
    "experiment_rootdir = \"cache_LG\"\n",
    "\n",
    "def run_experiment_and_return_learned_rate_matrices():\n",
    "    learned_rate_matrices = defaultdict(dict)\n",
    "    num_transitions = defaultdict(dict)\n",
    "    for max_families in max_families_list:\n",
    "        pipeline = Pipeline(\n",
    "            outdir=f\"{experiment_rootdir}/pipeline\",\n",
    "            max_seqs=100000,\n",
    "            max_sites=100000,\n",
    "            armstrong_cutoff=None,\n",
    "            rate_matrix='input_data/synthetic_rate_matrices/WAG_FastTree.txt',\n",
    "            n_process=32,\n",
    "            expected_number_of_MSAs=3912,\n",
    "            max_families=max_families,\n",
    "            a3m_dir='input_data/LG_Train_a3m',\n",
    "            pdb_dir=None,\n",
    "            use_cached=True,\n",
    "            num_epochs=200,\n",
    "            device='cpu',\n",
    "            center=0.06,\n",
    "            step_size=0.1,\n",
    "            n_steps=50,\n",
    "            keep_outliers=False,\n",
    "            max_height=1000.0,\n",
    "            max_path_height=1000,\n",
    "            precomputed_contact_dir=None,\n",
    "            precomputed_tree_dir=None,\n",
    "            precomputed_maximum_parsimony_dir=None,\n",
    "            edge_or_cherry=\"cherry\",\n",
    "            init_jtt_ipw=True,\n",
    "            method=[\"MLE\"],\n",
    "            xrate_grammar=None,\n",
    "            fast_tree_cats=4,\n",
    "            use_site_specific_rates=False,\n",
    "        )\n",
    "        pipeline.run()\n",
    "        learned_rate_matrices['real_data'][max_families] = pipeline.get_learned_Q1()\n",
    "        num_transitions['real_data'][max_families] = pipeline.get_number_of_single_site_transitions()\n",
    "\n",
    "        end_to_end_simulator = EndToEndSimulator(\n",
    "            outdir=f\"{experiment_rootdir}/end_to_end_simulator\",\n",
    "            pipeline=pipeline,\n",
    "            simulation_pct_interacting_positions=0.0,\n",
    "            use_site_specific_rates_in_simulation=False,\n",
    "            Q1_ground_truth=\"input_data/synthetic_rate_matrices/WAG_matrix.txt\",\n",
    "            Q2_ground_truth=\"input_data/synthetic_rate_matrices/Q2_uniform_constrained.txt\",\n",
    "            fast_tree_rate_matrix='input_data/synthetic_rate_matrices/WAG_FastTree.txt',\n",
    "            fast_tree_cats=4,\n",
    "            use_site_specific_rates=False,\n",
    "            simulate_end_to_end=True,\n",
    "            simulate_from_trees_wo_ancestral_states=True,\n",
    "            simulate_from_trees_w_ancestral_states=True,\n",
    "            use_cached=True,\n",
    "        )\n",
    "        end_to_end_simulator.run()\n",
    "        learned_rate_matrices['w_ancestral_states'][max_families] = end_to_end_simulator.pipeline_on_simulated_data_from_trees_w_ancestral_states.get_learned_Q1()\n",
    "        learned_rate_matrices['wo_ancestral_states'][max_families] = end_to_end_simulator.pipeline_on_simulated_data_from_trees_wo_ancestral_states.get_learned_Q1()\n",
    "        learned_rate_matrices['end_to_end'][max_families] = end_to_end_simulator.pipeline_on_simulated_data_end_to_end.get_learned_Q1()\n",
    "    return learned_rate_matrices, num_transitions\n",
    "max_families_list = [3912]\n",
    "learned_rate_matrices_orig, num_transitions_orig = run_experiment_and_return_learned_rate_matrices()"
   ]
  },
  {
   "cell_type": "markdown",
   "id": "12e0aa22",
   "metadata": {},
   "source": [
    "# Break old method: no site rates in method, yes in simulations"
   ]
  },
  {
   "cell_type": "markdown",
   "id": "a531b147",
   "metadata": {},
   "source": [
    "# Only caveat is that because we use site-specific rates in simulation, only 1024 sites will be used per family, making the simulated data potentially smaller for families larger that 1024. But I expect deteriorated performance to be due to not accounting for site rates"
   ]
  },
  {
   "cell_type": "code",
   "execution_count": 2,
   "id": "26003077",
   "metadata": {},
   "outputs": [
    {
     "name": "stderr",
     "output_type": "stream",
     "text": [
      "100%|██████████| 3912/3912 [00:00<00:00, 13249.47it/s]\n",
      "100%|██████████| 3912/3912 [00:00<00:00, 11299.41it/s]\n",
      "100%|██████████| 3912/3912 [00:00<00:00, 12744.60it/s]\n",
      "100%|██████████| 3912/3912 [00:00<00:00, 11480.86it/s]\n",
      "100%|██████████| 3912/3912 [00:00<00:00, 10122.09it/s]\n",
      "100%|██████████| 3912/3912 [00:00<00:00, 11511.16it/s]\n",
      "100%|██████████| 3912/3912 [00:00<00:00, 10287.15it/s]\n",
      "100%|██████████| 3912/3912 [00:00<00:00, 10715.11it/s]\n",
      "100%|██████████| 3912/3912 [00:00<00:00, 10898.53it/s]\n",
      "100%|██████████| 3912/3912 [00:00<00:00, 10615.81it/s]\n"
     ]
    },
    {
     "name": "stdout",
     "output_type": "stream",
     "text": [
      "CPU times: user 3.67 s, sys: 7.16 s, total: 10.8 s\n",
      "Wall time: 9.91 s\n"
     ]
    }
   ],
   "source": [
    "%%time\n",
    "from src.pipeline import Pipeline\n",
    "from src.end_to_end_simulation import EndToEndSimulator\n",
    "from collections import defaultdict\n",
    "\n",
    "experiment_rootdir = \"cache_LG\"\n",
    "\n",
    "def run_experiment_and_return_learned_rate_matrices():\n",
    "    learned_rate_matrices = defaultdict(dict)\n",
    "    num_transitions = defaultdict(dict)\n",
    "    for max_families in max_families_list:\n",
    "        pipeline = Pipeline(\n",
    "            outdir=f\"{experiment_rootdir}/pipeline\",\n",
    "            max_seqs=100000,\n",
    "            max_sites=100000,\n",
    "            armstrong_cutoff=None,\n",
    "            rate_matrix='input_data/synthetic_rate_matrices/WAG_FastTree.txt',\n",
    "            n_process=32,\n",
    "            expected_number_of_MSAs=3912,\n",
    "            max_families=max_families,\n",
    "            a3m_dir='input_data/LG_Train_a3m',\n",
    "            pdb_dir=None,\n",
    "            use_cached=True,\n",
    "            num_epochs=200,\n",
    "            device='cpu',\n",
    "            center=0.06,\n",
    "            step_size=0.1,\n",
    "            n_steps=50,\n",
    "            keep_outliers=False,\n",
    "            max_height=1000.0,\n",
    "            max_path_height=1000,\n",
    "            precomputed_contact_dir=None,\n",
    "            precomputed_tree_dir=None,\n",
    "            precomputed_maximum_parsimony_dir=None,\n",
    "            edge_or_cherry=\"cherry\",\n",
    "            init_jtt_ipw=True,\n",
    "            method=[\"MLE\"],\n",
    "            xrate_grammar=None,\n",
    "            fast_tree_cats=4,\n",
    "            use_site_specific_rates=False,\n",
    "        )\n",
    "        pipeline.run()\n",
    "        learned_rate_matrices['real_data'][max_families] = pipeline.get_learned_Q1()\n",
    "        num_transitions['real_data'][max_families] = pipeline.get_number_of_single_site_transitions()\n",
    "\n",
    "        end_to_end_simulator = EndToEndSimulator(\n",
    "            outdir=f\"{experiment_rootdir}/end_to_end_simulator\",\n",
    "            pipeline=pipeline,\n",
    "            simulation_pct_interacting_positions=0.0,\n",
    "            use_site_specific_rates_in_simulation=True,  # False, <== Only this chages! (The simulation)\n",
    "            Q1_ground_truth=\"input_data/synthetic_rate_matrices/WAG_matrix.txt\",\n",
    "            Q2_ground_truth=\"input_data/synthetic_rate_matrices/Q2_uniform_constrained.txt\",\n",
    "            fast_tree_rate_matrix='input_data/synthetic_rate_matrices/WAG_FastTree.txt',\n",
    "            fast_tree_cats=4,\n",
    "            use_site_specific_rates=False,\n",
    "            simulate_end_to_end=True,\n",
    "            simulate_from_trees_wo_ancestral_states=True,\n",
    "            simulate_from_trees_w_ancestral_states=True,\n",
    "            use_cached=True,\n",
    "        )\n",
    "        end_to_end_simulator.run()\n",
    "        learned_rate_matrices['w_ancestral_states'][max_families] = end_to_end_simulator.pipeline_on_simulated_data_from_trees_w_ancestral_states.get_learned_Q1()\n",
    "        learned_rate_matrices['wo_ancestral_states'][max_families] = end_to_end_simulator.pipeline_on_simulated_data_from_trees_wo_ancestral_states.get_learned_Q1()\n",
    "        learned_rate_matrices['end_to_end'][max_families] = end_to_end_simulator.pipeline_on_simulated_data_end_to_end.get_learned_Q1()\n",
    "    return learned_rate_matrices, num_transitions\n",
    "max_families_list = [3912]\n",
    "learned_rate_matrices_orig_break, num_transitions_orig_break = run_experiment_and_return_learned_rate_matrices()"
   ]
  },
  {
   "cell_type": "markdown",
   "id": "b95392c6",
   "metadata": {},
   "source": [
    "# Now fix the method by taking into account site rate variation"
   ]
  },
  {
   "cell_type": "code",
   "execution_count": 3,
   "id": "19790942",
   "metadata": {},
   "outputs": [
    {
     "name": "stderr",
     "output_type": "stream",
     "text": [
      "100%|██████████| 3912/3912 [00:00<00:00, 11241.49it/s]\n",
      "100%|██████████| 3912/3912 [00:00<00:00, 10285.05it/s]\n",
      "100%|██████████| 3912/3912 [00:00<00:00, 14154.90it/s]\n",
      "100%|██████████| 3912/3912 [00:00<00:00, 10455.01it/s]\n",
      "100%|██████████| 3912/3912 [00:00<00:00, 12637.91it/s]\n",
      "100%|██████████| 3912/3912 [00:00<00:00, 11728.39it/s]\n",
      "100%|██████████| 3912/3912 [00:00<00:00, 11828.57it/s]\n",
      "100%|██████████| 3912/3912 [00:00<00:00, 11857.37it/s]\n",
      "100%|██████████| 3912/3912 [00:00<00:00, 9637.63it/s]\n",
      "100%|██████████| 3912/3912 [00:00<00:00, 10043.43it/s]\n"
     ]
    },
    {
     "name": "stdout",
     "output_type": "stream",
     "text": [
      "CPU times: user 3.64 s, sys: 7.11 s, total: 10.7 s\n",
      "Wall time: 9.83 s\n"
     ]
    }
   ],
   "source": [
    "%%time\n",
    "from src.pipeline import Pipeline\n",
    "from src.end_to_end_simulation import EndToEndSimulator\n",
    "from collections import defaultdict\n",
    "\n",
    "experiment_rootdir = \"cache_LG\"\n",
    "\n",
    "def run_experiment_and_return_learned_rate_matrices():\n",
    "    learned_rate_matrices = defaultdict(dict)\n",
    "    num_transitions = defaultdict(dict)\n",
    "    for max_families in max_families_list:\n",
    "        pipeline = Pipeline(\n",
    "            outdir=f\"{experiment_rootdir}/pipeline\",\n",
    "            max_seqs=100000,\n",
    "            max_sites=100000,\n",
    "            armstrong_cutoff=None,\n",
    "            rate_matrix='input_data/synthetic_rate_matrices/WAG_FastTree.txt',\n",
    "            n_process=32,\n",
    "            expected_number_of_MSAs=3912,\n",
    "            max_families=max_families,\n",
    "            a3m_dir='input_data/LG_Train_a3m',\n",
    "            pdb_dir=None,\n",
    "            use_cached=True,\n",
    "            num_epochs=200,\n",
    "            device='cpu',\n",
    "            center=0.06,\n",
    "            step_size=0.1,\n",
    "            n_steps=50,\n",
    "            keep_outliers=False,\n",
    "            max_height=1000.0,\n",
    "            max_path_height=1000,\n",
    "            precomputed_contact_dir=None,\n",
    "            precomputed_tree_dir=None,\n",
    "            precomputed_maximum_parsimony_dir=None,\n",
    "            edge_or_cherry=\"cherry\",\n",
    "            init_jtt_ipw=True,\n",
    "            method=[\"MLE\"],\n",
    "            xrate_grammar=None,\n",
    "            fast_tree_cats=4,\n",
    "            use_site_specific_rates=True,  # False, <== This should fix it!\n",
    "        )\n",
    "        pipeline.run()\n",
    "        learned_rate_matrices['real_data'][max_families] = pipeline.get_learned_Q1()\n",
    "        num_transitions['real_data'][max_families] = pipeline.get_number_of_single_site_transitions()\n",
    "\n",
    "        end_to_end_simulator = EndToEndSimulator(\n",
    "            outdir=f\"{experiment_rootdir}/end_to_end_simulator\",\n",
    "            pipeline=pipeline,\n",
    "            simulation_pct_interacting_positions=0.0,\n",
    "            use_site_specific_rates_in_simulation=True,  # False, <== Only this chages! (The simulation)\n",
    "            Q1_ground_truth=\"input_data/synthetic_rate_matrices/WAG_matrix.txt\",\n",
    "            Q2_ground_truth=\"input_data/synthetic_rate_matrices/Q2_uniform_constrained.txt\",\n",
    "            fast_tree_rate_matrix='input_data/synthetic_rate_matrices/WAG_FastTree.txt',\n",
    "            fast_tree_cats=4,\n",
    "            use_site_specific_rates=True,  # False, <== This should fix it!\n",
    "            simulate_end_to_end=True,\n",
    "            simulate_from_trees_wo_ancestral_states=True,\n",
    "            simulate_from_trees_w_ancestral_states=True,\n",
    "            use_cached=True,\n",
    "        )\n",
    "        end_to_end_simulator.run()\n",
    "        learned_rate_matrices['w_ancestral_states'][max_families] = end_to_end_simulator.pipeline_on_simulated_data_from_trees_w_ancestral_states.get_learned_Q1()\n",
    "        learned_rate_matrices['wo_ancestral_states'][max_families] = end_to_end_simulator.pipeline_on_simulated_data_from_trees_wo_ancestral_states.get_learned_Q1()\n",
    "        learned_rate_matrices['end_to_end'][max_families] = end_to_end_simulator.pipeline_on_simulated_data_end_to_end.get_learned_Q1()\n",
    "    return learned_rate_matrices, num_transitions\n",
    "max_families_list = [3912]\n",
    "learned_rate_matrices_orig_fixed, num_transitions_orig_fixed = run_experiment_and_return_learned_rate_matrices()"
   ]
  },
  {
   "cell_type": "markdown",
   "id": "7e9e46a8",
   "metadata": {},
   "source": [
    "# Analysis code"
   ]
  },
  {
   "cell_type": "code",
   "execution_count": 4,
   "id": "326170b6",
   "metadata": {},
   "outputs": [
    {
     "name": "stdout",
     "output_type": "stream",
     "text": [
      "***** Original *****\n",
      "*************** #families = 3912 ***************\n"
     ]
    },
    {
     "data": {
      "image/png": "[encoded data removed]",
      "text/plain": [
       "<Figure size 640x160 with 3 Axes>"
      ]
     },
     "metadata": {
      "needs_background": "light"
     },
     "output_type": "display_data"
    },
    {
     "name": "stdout",
     "output_type": "stream",
     "text": [
      "***** Original Break *****\n",
      "*************** #families = 3912 ***************\n"
     ]
    },
    {
     "data": {
      "image/png": "[encoded data removed]",
      "text/plain": [
       "<Figure size 640x160 with 3 Axes>"
      ]
     },
     "metadata": {
      "needs_background": "light"
     },
     "output_type": "display_data"
    },
    {
     "name": "stdout",
     "output_type": "stream",
     "text": [
      "***** Original Fixed *****\n",
      "*************** #families = 3912 ***************\n"
     ]
    },
    {
     "data": {
      "image/png": "[encoded data removed]",
      "text/plain": [
       "<Figure size 640x160 with 3 Axes>"
      ]
     },
     "metadata": {
      "needs_background": "light"
     },
     "output_type": "display_data"
    }
   ],
   "source": [
    "import matplotlib.pyplot as plt\n",
    "from matplotlib.pyplot import figure\n",
    "import Phylo_util\n",
    "import numpy as np\n",
    "import pandas as pd\n",
    "SRC_DIR = \"./\"\n",
    "\n",
    "def normalized(Q):\n",
    "    pi = Phylo_util.solve_stationery_dist(Q)\n",
    "    mutation_rate = pi @ -np.diag(Q)\n",
    "    return Q / mutation_rate\n",
    "\n",
    "def log_log_plot(Q_true, Q_true_name, Q_pred, Q_pred_name, normalize=False):\n",
    "    if normalize:\n",
    "        plt.scatter(np.log(np.abs(normalized(Q_true))), np.log(np.abs(normalized(Q_pred))), alpha=0.3)\n",
    "        plt.xlabel(f'Normalized {Q_true_name}')\n",
    "        plt.ylabel(f'Normalized {Q_pred_name}')\n",
    "    else:\n",
    "        plt.scatter(np.log(np.abs(Q_true)), np.log(np.abs(Q_pred)), alpha=0.3)\n",
    "        plt.xlabel(f'{Q_true_name}')\n",
    "        plt.ylabel(f'{Q_pred_name}')\n",
    "    plt.xlim([-10, 0])\n",
    "    plt.ylim([-10, 0])\n",
    "    plt.plot([-10, 0], [-10, 0], color='r')\n",
    "\n",
    "def plot_convergence_to_WAG_for_simulated_data(learned_rate_matrices):\n",
    "    # For the simulated data, plot the ground truth (WAG) against the estimates.\n",
    "    WAG_matrix = np.array(pd.read_csv(f\"{SRC_DIR}input_data/synthetic_rate_matrices/WAG_matrix.txt\", sep=\"\\t\", index_col=0))\n",
    "    for max_families in max_families_list:\n",
    "        print(\"*\" * 15 + f\" #families = {max_families} \" + \"*\" * 15)\n",
    "        for normalize in [True]:\n",
    "            figure(figsize=(8, 2), dpi=80)\n",
    "            plt.subplot(1, 3, 1)\n",
    "            log_log_plot(WAG_matrix, \"WAG\", learned_rate_matrices['w_ancestral_states'][max_families], \"w ancestral states\", normalize=normalize)\n",
    "            plt.subplot(1, 3, 2)\n",
    "            log_log_plot(WAG_matrix, \"WAG\", learned_rate_matrices['wo_ancestral_states'][max_families], \"wo ancestral states\", normalize=normalize)\n",
    "            plt.subplot(1, 3, 3)\n",
    "            log_log_plot(WAG_matrix, \"WAG\", learned_rate_matrices['end_to_end'][max_families], \"end-to-end\", normalize=normalize)\n",
    "            plt.tight_layout()\n",
    "            plt.show()\n",
    "\n",
    "print(\"***** Original *****\")\n",
    "plot_convergence_to_WAG_for_simulated_data(learned_rate_matrices_orig)\n",
    "print(\"***** Original Break *****\")\n",
    "plot_convergence_to_WAG_for_simulated_data(learned_rate_matrices_orig_break)\n",
    "print(\"***** Original Fixed *****\")\n",
    "plot_convergence_to_WAG_for_simulated_data(learned_rate_matrices_orig_fixed)"
   ]
  },
  {
   "cell_type": "markdown",
   "id": "e1949ba2",
   "metadata": {},
   "source": [
    "### Simulation Results w_ancestral_states (==wo_ancestral_states)"
   ]
  },
  {
   "cell_type": "code",
   "execution_count": 5,
   "id": "e3640856",
   "metadata": {},
   "outputs": [
    {
     "data": {
      "text/plain": [
       "array([[-1.08213263,  0.0246567 ,  0.02026082],\n",
       "       [ 0.04857542, -0.94377723,  0.02524798],\n",
       "       [ 0.04490099,  0.02840167, -1.40691003]])"
      ]
     },
     "execution_count": 5,
     "metadata": {},
     "output_type": "execute_result"
    }
   ],
   "source": [
    "WAG_matrix = np.array(pd.read_csv(f\"{SRC_DIR}input_data/synthetic_rate_matrices/WAG_matrix.txt\", sep=\"\\t\", index_col=0))\n",
    "normalized(WAG_matrix[:3, :3])"
   ]
  },
  {
   "cell_type": "code",
   "execution_count": 6,
   "id": "1a4debba",
   "metadata": {},
   "outputs": [
    {
     "data": {
      "text/plain": [
       "array([[-1.08083616,  0.0253816 ,  0.02033255],\n",
       "       [ 0.0499606 , -0.94335948,  0.02502616],\n",
       "       [ 0.04519752,  0.02826234, -1.41835507]])"
      ]
     },
     "execution_count": 6,
     "metadata": {},
     "output_type": "execute_result"
    }
   ],
   "source": [
    "normalized(learned_rate_matrices_orig['w_ancestral_states'][3912][:3,:3])"
   ]
  },
  {
   "cell_type": "code",
   "execution_count": 7,
   "id": "e9ea95e2",
   "metadata": {},
   "outputs": [
    {
     "data": {
      "text/plain": [
       "array([[-1.08069775,  0.02693823,  0.02399764],\n",
       "       [ 0.05291905, -0.9400849 ,  0.02672514],\n",
       "       [ 0.05291783,  0.02999926, -1.36145011]])"
      ]
     },
     "execution_count": 7,
     "metadata": {},
     "output_type": "execute_result"
    }
   ],
   "source": [
    "normalized(learned_rate_matrices_orig_break['w_ancestral_states'][3912][:3,:3])  # => This will not converge to WAG because it doesn't use the site rates"
   ]
  },
  {
   "cell_type": "code",
   "execution_count": 8,
   "id": "00c21b1a",
   "metadata": {},
   "outputs": [
    {
     "data": {
      "text/plain": [
       "array([[-1.09043883,  0.02525104,  0.02074262],\n",
       "       [ 0.04987219, -0.94276099,  0.02438615],\n",
       "       [ 0.04602842,  0.02739848, -1.41758633]])"
      ]
     },
     "execution_count": 8,
     "metadata": {},
     "output_type": "execute_result"
    }
   ],
   "source": [
    "normalized(learned_rate_matrices_orig_fixed['w_ancestral_states'][3912][:3,:3])  # => It is expected that this converges to WAG"
   ]
  },
  {
   "cell_type": "markdown",
   "id": "83028566",
   "metadata": {},
   "source": [
    "### Simulation results end-to-end"
   ]
  },
  {
   "cell_type": "code",
   "execution_count": 9,
   "id": "322949b0",
   "metadata": {},
   "outputs": [
    {
     "data": {
      "text/plain": [
       "array([[-1.08456801,  0.02515046,  0.02016623],\n",
       "       [ 0.04954843, -0.94314063,  0.02503322],\n",
       "       [ 0.04501645,  0.02836477, -1.43124831]])"
      ]
     },
     "execution_count": 9,
     "metadata": {},
     "output_type": "execute_result"
    }
   ],
   "source": [
    "normalized(learned_rate_matrices_orig['end_to_end'][3912][:3,:3])  # => This shows that even wo the trees, our method performs well in simulations without rate variation. Will it perform well _with_ rate variation? See two cells below!"
   ]
  },
  {
   "cell_type": "code",
   "execution_count": 10,
   "id": "6c915264",
   "metadata": {},
   "outputs": [
    {
     "data": {
      "text/plain": [
       "array([[-1.07693453,  0.02668082,  0.02318511],\n",
       "       [ 0.05254693, -0.9412783 ,  0.02616011],\n",
       "       [ 0.05130255,  0.02939146, -1.36573812]])"
      ]
     },
     "execution_count": 10,
     "metadata": {},
     "output_type": "execute_result"
    }
   ],
   "source": [
    "normalized(learned_rate_matrices_orig_break['end_to_end'][3912][:3,:3])  # => This already did not converge with the trees. We don't expect it to do well here - only worse. As we can see, it performs almost identically."
   ]
  },
  {
   "cell_type": "code",
   "execution_count": 11,
   "id": "3d0f845a",
   "metadata": {},
   "outputs": [
    {
     "data": {
      "text/plain": [
       "array([[-1.09225196,  0.0247316 ,  0.01878793],\n",
       "       [ 0.04882813, -0.94487508,  0.02275665],\n",
       "       [ 0.04134571,  0.02536542, -1.40965335]])"
      ]
     },
     "execution_count": 11,
     "metadata": {},
     "output_type": "execute_result"
    }
   ],
   "source": [
    "normalized(learned_rate_matrices_orig_fixed['end_to_end'][3912][:3,:3])  # => Okay this is the huge one. Because our model now needs to reconstruct the trees AND infer the site rates... Will it do as well as with access to the trees and site rates? It does!"
   ]
  },
  {
   "cell_type": "markdown",
   "id": "680fb3fb",
   "metadata": {},
   "source": [
    "# Let's see what happened on real data"
   ]
  },
  {
   "cell_type": "code",
   "execution_count": 12,
   "id": "b95a7c15",
   "metadata": {},
   "outputs": [
    {
     "data": {
      "text/plain": [
       "array([[-1.15207083,  0.02882676,  0.02236503],\n",
       "       [ 0.04348515, -0.93810198,  0.03439912],\n",
       "       [ 0.04353211,  0.04438562, -1.19693508]])"
      ]
     },
     "execution_count": 12,
     "metadata": {},
     "output_type": "execute_result"
    }
   ],
   "source": [
    "normalized(learned_rate_matrices_orig['real_data'][3912][:3,:3])"
   ]
  },
  {
   "cell_type": "code",
   "execution_count": 13,
   "id": "48b2c438",
   "metadata": {},
   "outputs": [
    {
     "data": {
      "text/plain": [
       "array([[-1.15207083,  0.02882676,  0.02236503],\n",
       "       [ 0.04348515, -0.93810198,  0.03439912],\n",
       "       [ 0.04353211,  0.04438562, -1.19693508]])"
      ]
     },
     "execution_count": 13,
     "metadata": {},
     "output_type": "execute_result"
    }
   ],
   "source": [
    "normalized(learned_rate_matrices_orig_break['real_data'][3912][:3,:3])  # => Should be the same as above, as only the simulation was changed"
   ]
  },
  {
   "cell_type": "code",
   "execution_count": 14,
   "id": "e58f69aa",
   "metadata": {},
   "outputs": [
    {
     "data": {
      "text/plain": [
       "array([[-1.14447077,  0.02438406,  0.01457398],\n",
       "       [ 0.03740146, -0.94468786,  0.03053991],\n",
       "       [ 0.0294191 ,  0.04019172, -1.29811372]])"
      ]
     },
     "execution_count": 14,
     "metadata": {},
     "output_type": "execute_result"
    }
   ],
   "source": [
    "normalized(learned_rate_matrices_orig_fixed['real_data'][3912][:3,:3])  # => Looks quite different from our original method which didn't account for site rate variation!"
   ]
  },
  {
   "cell_type": "code",
   "execution_count": null,
   "id": "0c6ae676",
   "metadata": {},
   "outputs": [],
   "source": []
  }
 ],
 "metadata": {
  "kernelspec": {
   "display_name": "Python 3",
   "language": "python",
   "name": "python3"
  },
  "language_info": {
   "codemirror_mode": {
    "name": "ipython",
    "version": 3
   },
   "file_extension": ".py",
   "mimetype": "text/x-python",
   "name": "python",
   "nbconvert_exporter": "python",
   "pygments_lexer": "ipython3",
   "version": "3.8.5"
  }
 },
 "nbformat": 4,
 "nbformat_minor": 5
}
