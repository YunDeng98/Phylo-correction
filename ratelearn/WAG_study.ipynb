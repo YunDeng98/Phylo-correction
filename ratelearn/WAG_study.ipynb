{
 "cells": [
  {
   "cell_type": "code",
   "execution_count": 1,
   "id": "ab9af8b7-bc76-4324-9ca6-2463c043d58e",
   "metadata": {},
   "outputs": [],
   "source": [
    "from ratelearn import (RateMatrix, convert_triplet_to_quantized, estimate_likelihood,\n",
    "                       generate_data, train_quantization, train_quantization_N)"
   ]
  },
  {
   "cell_type": "code",
   "execution_count": 2,
   "id": "531a7a39-dfc1-40c6-87e0-ecf3974320db",
   "metadata": {},
   "outputs": [],
   "source": [
    "%matplotlib inline\n",
    "import os\n",
    "import pandas as pd\n",
    "import seaborn as sns\n",
    "import numpy as np\n",
    "import matplotlib.pyplot as plt\n",
    "import plotnine as p9\n",
    "\n",
    "import torch"
   ]
  },
  {
   "cell_type": "markdown",
   "id": "0266e8c5-ffd7-4e7e-83b6-138b9c6434e8",
   "metadata": {},
   "source": [
    "# Step 1: Import WAG matrix"
   ]
  },
  {
   "cell_type": "code",
   "execution_count": 3,
   "id": "32054445-95cf-4604-9e45-b9ab7a6a0d3b",
   "metadata": {},
   "outputs": [
    {
     "data": {
      "text/html": [
       "<div>\n",
       "<style scoped>\n",
       "    .dataframe tbody tr th:only-of-type {\n",
       "        vertical-align: middle;\n",
       "    }\n",
       "\n",
       "    .dataframe tbody tr th {\n",
       "        vertical-align: top;\n",
       "    }\n",
       "\n",
       "    .dataframe thead th {\n",
       "        text-align: right;\n",
       "    }\n",
       "</style>\n",
       "<table border=\"1\" class=\"dataframe\">\n",
       "  <thead>\n",
       "    <tr style=\"text-align: right;\">\n",
       "      <th></th>\n",
       "      <th>0</th>\n",
       "      <th>1</th>\n",
       "      <th>2</th>\n",
       "      <th>3</th>\n",
       "      <th>4</th>\n",
       "      <th>5</th>\n",
       "      <th>6</th>\n",
       "      <th>7</th>\n",
       "      <th>8</th>\n",
       "      <th>9</th>\n",
       "      <th>10</th>\n",
       "      <th>11</th>\n",
       "      <th>12</th>\n",
       "      <th>13</th>\n",
       "      <th>14</th>\n",
       "      <th>15</th>\n",
       "      <th>16</th>\n",
       "      <th>17</th>\n",
       "      <th>18</th>\n",
       "      <th>19</th>\n",
       "    </tr>\n",
       "  </thead>\n",
       "  <tbody>\n",
       "    <tr>\n",
       "      <th>0</th>\n",
       "      <td>-18.944412</td>\n",
       "      <td>0.551571</td>\n",
       "      <td>0.509848</td>\n",
       "      <td>0.738998</td>\n",
       "      <td>1.027040</td>\n",
       "      <td>0.908598</td>\n",
       "      <td>1.582850</td>\n",
       "      <td>1.416720</td>\n",
       "      <td>0.316954</td>\n",
       "      <td>0.193335</td>\n",
       "      <td>0.397915</td>\n",
       "      <td>0.906265</td>\n",
       "      <td>0.893496</td>\n",
       "      <td>0.210494</td>\n",
       "      <td>1.438550</td>\n",
       "      <td>3.370790</td>\n",
       "      <td>2.121110</td>\n",
       "      <td>0.113133</td>\n",
       "      <td>0.240735</td>\n",
       "      <td>2.006010</td>\n",
       "    </tr>\n",
       "    <tr>\n",
       "      <th>1</th>\n",
       "      <td>0.551571</td>\n",
       "      <td>-19.136221</td>\n",
       "      <td>0.635346</td>\n",
       "      <td>0.147304</td>\n",
       "      <td>0.528191</td>\n",
       "      <td>3.035500</td>\n",
       "      <td>0.439157</td>\n",
       "      <td>0.584665</td>\n",
       "      <td>2.137150</td>\n",
       "      <td>0.186979</td>\n",
       "      <td>0.497671</td>\n",
       "      <td>5.351420</td>\n",
       "      <td>0.683162</td>\n",
       "      <td>0.102711</td>\n",
       "      <td>0.679489</td>\n",
       "      <td>1.224190</td>\n",
       "      <td>0.554413</td>\n",
       "      <td>1.163920</td>\n",
       "      <td>0.381533</td>\n",
       "      <td>0.251849</td>\n",
       "    </tr>\n",
       "    <tr>\n",
       "      <th>2</th>\n",
       "      <td>0.509848</td>\n",
       "      <td>0.635346</td>\n",
       "      <td>-25.958249</td>\n",
       "      <td>5.429420</td>\n",
       "      <td>0.265256</td>\n",
       "      <td>1.543640</td>\n",
       "      <td>0.947198</td>\n",
       "      <td>1.125560</td>\n",
       "      <td>3.956290</td>\n",
       "      <td>0.554236</td>\n",
       "      <td>0.131528</td>\n",
       "      <td>3.012010</td>\n",
       "      <td>0.198221</td>\n",
       "      <td>0.096162</td>\n",
       "      <td>0.195081</td>\n",
       "      <td>3.974230</td>\n",
       "      <td>2.030060</td>\n",
       "      <td>0.071917</td>\n",
       "      <td>1.086000</td>\n",
       "      <td>0.196246</td>\n",
       "    </tr>\n",
       "    <tr>\n",
       "      <th>3</th>\n",
       "      <td>0.738998</td>\n",
       "      <td>0.147304</td>\n",
       "      <td>5.429420</td>\n",
       "      <td>-18.166224</td>\n",
       "      <td>0.030295</td>\n",
       "      <td>0.616783</td>\n",
       "      <td>6.174160</td>\n",
       "      <td>0.865584</td>\n",
       "      <td>0.930676</td>\n",
       "      <td>0.039437</td>\n",
       "      <td>0.084805</td>\n",
       "      <td>0.479855</td>\n",
       "      <td>0.103754</td>\n",
       "      <td>0.046730</td>\n",
       "      <td>0.423984</td>\n",
       "      <td>1.071760</td>\n",
       "      <td>0.374866</td>\n",
       "      <td>0.129767</td>\n",
       "      <td>0.325711</td>\n",
       "      <td>0.152335</td>\n",
       "    </tr>\n",
       "    <tr>\n",
       "      <th>4</th>\n",
       "      <td>1.027040</td>\n",
       "      <td>0.528191</td>\n",
       "      <td>0.265256</td>\n",
       "      <td>0.030295</td>\n",
       "      <td>-8.236647</td>\n",
       "      <td>0.098818</td>\n",
       "      <td>0.021352</td>\n",
       "      <td>0.306674</td>\n",
       "      <td>0.248972</td>\n",
       "      <td>0.170135</td>\n",
       "      <td>0.384287</td>\n",
       "      <td>0.074034</td>\n",
       "      <td>0.390482</td>\n",
       "      <td>0.398020</td>\n",
       "      <td>0.109404</td>\n",
       "      <td>1.407660</td>\n",
       "      <td>0.512984</td>\n",
       "      <td>0.717070</td>\n",
       "      <td>0.543833</td>\n",
       "      <td>1.002140</td>\n",
       "    </tr>\n",
       "    <tr>\n",
       "      <th>5</th>\n",
       "      <td>0.908598</td>\n",
       "      <td>3.035500</td>\n",
       "      <td>1.543640</td>\n",
       "      <td>0.616783</td>\n",
       "      <td>0.098818</td>\n",
       "      <td>-26.385356</td>\n",
       "      <td>5.469470</td>\n",
       "      <td>0.330052</td>\n",
       "      <td>4.294110</td>\n",
       "      <td>0.113917</td>\n",
       "      <td>0.869489</td>\n",
       "      <td>3.894900</td>\n",
       "      <td>1.545260</td>\n",
       "      <td>0.099921</td>\n",
       "      <td>0.933372</td>\n",
       "      <td>1.028870</td>\n",
       "      <td>0.857928</td>\n",
       "      <td>0.215737</td>\n",
       "      <td>0.227710</td>\n",
       "      <td>0.301281</td>\n",
       "    </tr>\n",
       "    <tr>\n",
       "      <th>6</th>\n",
       "      <td>1.582850</td>\n",
       "      <td>0.439157</td>\n",
       "      <td>0.947198</td>\n",
       "      <td>6.174160</td>\n",
       "      <td>0.021352</td>\n",
       "      <td>5.469470</td>\n",
       "      <td>-22.185925</td>\n",
       "      <td>0.567717</td>\n",
       "      <td>0.570025</td>\n",
       "      <td>0.127395</td>\n",
       "      <td>0.154263</td>\n",
       "      <td>2.584430</td>\n",
       "      <td>0.315124</td>\n",
       "      <td>0.081134</td>\n",
       "      <td>0.682355</td>\n",
       "      <td>0.704939</td>\n",
       "      <td>0.822765</td>\n",
       "      <td>0.156557</td>\n",
       "      <td>0.196303</td>\n",
       "      <td>0.588731</td>\n",
       "    </tr>\n",
       "    <tr>\n",
       "      <th>7</th>\n",
       "      <td>1.416720</td>\n",
       "      <td>0.584665</td>\n",
       "      <td>1.125560</td>\n",
       "      <td>0.865584</td>\n",
       "      <td>0.306674</td>\n",
       "      <td>0.330052</td>\n",
       "      <td>0.567717</td>\n",
       "      <td>-8.574782</td>\n",
       "      <td>0.249410</td>\n",
       "      <td>0.030450</td>\n",
       "      <td>0.061304</td>\n",
       "      <td>0.373558</td>\n",
       "      <td>0.174100</td>\n",
       "      <td>0.049931</td>\n",
       "      <td>0.243570</td>\n",
       "      <td>1.341820</td>\n",
       "      <td>0.225833</td>\n",
       "      <td>0.336983</td>\n",
       "      <td>0.103604</td>\n",
       "      <td>0.187247</td>\n",
       "    </tr>\n",
       "    <tr>\n",
       "      <th>8</th>\n",
       "      <td>0.316954</td>\n",
       "      <td>2.137150</td>\n",
       "      <td>3.956290</td>\n",
       "      <td>0.930676</td>\n",
       "      <td>0.248972</td>\n",
       "      <td>4.294110</td>\n",
       "      <td>0.570025</td>\n",
       "      <td>0.249410</td>\n",
       "      <td>-21.479224</td>\n",
       "      <td>0.138190</td>\n",
       "      <td>0.499462</td>\n",
       "      <td>0.890432</td>\n",
       "      <td>0.404141</td>\n",
       "      <td>0.679371</td>\n",
       "      <td>0.696198</td>\n",
       "      <td>0.740169</td>\n",
       "      <td>0.473307</td>\n",
       "      <td>0.262569</td>\n",
       "      <td>3.873440</td>\n",
       "      <td>0.118358</td>\n",
       "    </tr>\n",
       "    <tr>\n",
       "      <th>9</th>\n",
       "      <td>0.193335</td>\n",
       "      <td>0.186979</td>\n",
       "      <td>0.554236</td>\n",
       "      <td>0.039437</td>\n",
       "      <td>0.170135</td>\n",
       "      <td>0.113917</td>\n",
       "      <td>0.127395</td>\n",
       "      <td>0.030450</td>\n",
       "      <td>0.138190</td>\n",
       "      <td>-20.697288</td>\n",
       "      <td>3.170970</td>\n",
       "      <td>0.323832</td>\n",
       "      <td>4.257460</td>\n",
       "      <td>1.059470</td>\n",
       "      <td>0.099929</td>\n",
       "      <td>0.319440</td>\n",
       "      <td>1.458160</td>\n",
       "      <td>0.212483</td>\n",
       "      <td>0.420170</td>\n",
       "      <td>7.821300</td>\n",
       "    </tr>\n",
       "    <tr>\n",
       "      <th>10</th>\n",
       "      <td>0.397915</td>\n",
       "      <td>0.497671</td>\n",
       "      <td>0.131528</td>\n",
       "      <td>0.084805</td>\n",
       "      <td>0.384287</td>\n",
       "      <td>0.869489</td>\n",
       "      <td>0.154263</td>\n",
       "      <td>0.061304</td>\n",
       "      <td>0.499462</td>\n",
       "      <td>3.170970</td>\n",
       "      <td>-17.429910</td>\n",
       "      <td>0.257555</td>\n",
       "      <td>4.854020</td>\n",
       "      <td>2.115170</td>\n",
       "      <td>0.415844</td>\n",
       "      <td>0.344739</td>\n",
       "      <td>0.326622</td>\n",
       "      <td>0.665309</td>\n",
       "      <td>0.398618</td>\n",
       "      <td>1.800340</td>\n",
       "    </tr>\n",
       "    <tr>\n",
       "      <th>11</th>\n",
       "      <td>0.906265</td>\n",
       "      <td>5.351420</td>\n",
       "      <td>3.012010</td>\n",
       "      <td>0.479855</td>\n",
       "      <td>0.074034</td>\n",
       "      <td>3.894900</td>\n",
       "      <td>2.584430</td>\n",
       "      <td>0.373558</td>\n",
       "      <td>0.890432</td>\n",
       "      <td>0.323832</td>\n",
       "      <td>0.257555</td>\n",
       "      <td>-22.658612</td>\n",
       "      <td>0.934276</td>\n",
       "      <td>0.088836</td>\n",
       "      <td>0.556896</td>\n",
       "      <td>0.967130</td>\n",
       "      <td>1.386980</td>\n",
       "      <td>0.137505</td>\n",
       "      <td>0.133264</td>\n",
       "      <td>0.305434</td>\n",
       "    </tr>\n",
       "    <tr>\n",
       "      <th>12</th>\n",
       "      <td>0.893496</td>\n",
       "      <td>0.683162</td>\n",
       "      <td>0.198221</td>\n",
       "      <td>0.103754</td>\n",
       "      <td>0.390482</td>\n",
       "      <td>1.545260</td>\n",
       "      <td>0.315124</td>\n",
       "      <td>0.174100</td>\n",
       "      <td>0.404141</td>\n",
       "      <td>4.257460</td>\n",
       "      <td>4.854020</td>\n",
       "      <td>0.934276</td>\n",
       "      <td>-21.128073</td>\n",
       "      <td>1.190630</td>\n",
       "      <td>0.171329</td>\n",
       "      <td>0.493905</td>\n",
       "      <td>1.516120</td>\n",
       "      <td>0.515706</td>\n",
       "      <td>0.428437</td>\n",
       "      <td>2.058450</td>\n",
       "    </tr>\n",
       "    <tr>\n",
       "      <th>13</th>\n",
       "      <td>0.210494</td>\n",
       "      <td>0.102711</td>\n",
       "      <td>0.096162</td>\n",
       "      <td>0.046730</td>\n",
       "      <td>0.398020</td>\n",
       "      <td>0.099921</td>\n",
       "      <td>0.081134</td>\n",
       "      <td>0.049931</td>\n",
       "      <td>0.679371</td>\n",
       "      <td>1.059470</td>\n",
       "      <td>2.115170</td>\n",
       "      <td>0.088836</td>\n",
       "      <td>1.190630</td>\n",
       "      <td>-15.731670</td>\n",
       "      <td>0.161444</td>\n",
       "      <td>0.545931</td>\n",
       "      <td>0.171903</td>\n",
       "      <td>1.529640</td>\n",
       "      <td>6.454280</td>\n",
       "      <td>0.649892</td>\n",
       "    </tr>\n",
       "    <tr>\n",
       "      <th>14</th>\n",
       "      <td>1.438550</td>\n",
       "      <td>0.679489</td>\n",
       "      <td>0.195081</td>\n",
       "      <td>0.423984</td>\n",
       "      <td>0.109404</td>\n",
       "      <td>0.933372</td>\n",
       "      <td>0.682355</td>\n",
       "      <td>0.243570</td>\n",
       "      <td>0.696198</td>\n",
       "      <td>0.099929</td>\n",
       "      <td>0.415844</td>\n",
       "      <td>0.556896</td>\n",
       "      <td>0.171329</td>\n",
       "      <td>0.161444</td>\n",
       "      <td>-9.886447</td>\n",
       "      <td>1.613280</td>\n",
       "      <td>0.795384</td>\n",
       "      <td>0.139405</td>\n",
       "      <td>0.216046</td>\n",
       "      <td>0.314887</td>\n",
       "    </tr>\n",
       "    <tr>\n",
       "      <th>15</th>\n",
       "      <td>3.370790</td>\n",
       "      <td>1.224190</td>\n",
       "      <td>3.974230</td>\n",
       "      <td>1.071760</td>\n",
       "      <td>1.407660</td>\n",
       "      <td>1.028870</td>\n",
       "      <td>0.704939</td>\n",
       "      <td>1.341820</td>\n",
       "      <td>0.740169</td>\n",
       "      <td>0.319440</td>\n",
       "      <td>0.344739</td>\n",
       "      <td>0.967130</td>\n",
       "      <td>0.493905</td>\n",
       "      <td>0.545931</td>\n",
       "      <td>1.613280</td>\n",
       "      <td>-25.070347</td>\n",
       "      <td>4.378020</td>\n",
       "      <td>0.523742</td>\n",
       "      <td>0.786993</td>\n",
       "      <td>0.232739</td>\n",
       "    </tr>\n",
       "    <tr>\n",
       "      <th>16</th>\n",
       "      <td>2.121110</td>\n",
       "      <td>0.554413</td>\n",
       "      <td>2.030060</td>\n",
       "      <td>0.374866</td>\n",
       "      <td>0.512984</td>\n",
       "      <td>0.857928</td>\n",
       "      <td>0.822765</td>\n",
       "      <td>0.225833</td>\n",
       "      <td>0.473307</td>\n",
       "      <td>1.458160</td>\n",
       "      <td>0.326622</td>\n",
       "      <td>1.386980</td>\n",
       "      <td>1.516120</td>\n",
       "      <td>0.171903</td>\n",
       "      <td>0.795384</td>\n",
       "      <td>4.378020</td>\n",
       "      <td>-19.796697</td>\n",
       "      <td>0.110864</td>\n",
       "      <td>0.291148</td>\n",
       "      <td>1.388230</td>\n",
       "    </tr>\n",
       "    <tr>\n",
       "      <th>17</th>\n",
       "      <td>0.113133</td>\n",
       "      <td>1.163920</td>\n",
       "      <td>0.071917</td>\n",
       "      <td>0.129767</td>\n",
       "      <td>0.717070</td>\n",
       "      <td>0.215737</td>\n",
       "      <td>0.156557</td>\n",
       "      <td>0.336983</td>\n",
       "      <td>0.262569</td>\n",
       "      <td>0.212483</td>\n",
       "      <td>0.665309</td>\n",
       "      <td>0.137505</td>\n",
       "      <td>0.515706</td>\n",
       "      <td>1.529640</td>\n",
       "      <td>0.139405</td>\n",
       "      <td>0.523742</td>\n",
       "      <td>0.110864</td>\n",
       "      <td>-9.853066</td>\n",
       "      <td>2.485390</td>\n",
       "      <td>0.365369</td>\n",
       "    </tr>\n",
       "    <tr>\n",
       "      <th>18</th>\n",
       "      <td>0.240735</td>\n",
       "      <td>0.381533</td>\n",
       "      <td>1.086000</td>\n",
       "      <td>0.325711</td>\n",
       "      <td>0.543833</td>\n",
       "      <td>0.227710</td>\n",
       "      <td>0.196303</td>\n",
       "      <td>0.103604</td>\n",
       "      <td>3.873440</td>\n",
       "      <td>0.420170</td>\n",
       "      <td>0.398618</td>\n",
       "      <td>0.133264</td>\n",
       "      <td>0.428437</td>\n",
       "      <td>6.454280</td>\n",
       "      <td>0.216046</td>\n",
       "      <td>0.786993</td>\n",
       "      <td>0.291148</td>\n",
       "      <td>2.485390</td>\n",
       "      <td>-18.907945</td>\n",
       "      <td>0.314730</td>\n",
       "    </tr>\n",
       "    <tr>\n",
       "      <th>19</th>\n",
       "      <td>2.006010</td>\n",
       "      <td>0.251849</td>\n",
       "      <td>0.196246</td>\n",
       "      <td>0.152335</td>\n",
       "      <td>1.002140</td>\n",
       "      <td>0.301281</td>\n",
       "      <td>0.588731</td>\n",
       "      <td>0.187247</td>\n",
       "      <td>0.118358</td>\n",
       "      <td>7.821300</td>\n",
       "      <td>1.800340</td>\n",
       "      <td>0.305434</td>\n",
       "      <td>2.058450</td>\n",
       "      <td>0.649892</td>\n",
       "      <td>0.314887</td>\n",
       "      <td>0.232739</td>\n",
       "      <td>1.388230</td>\n",
       "      <td>0.365369</td>\n",
       "      <td>0.314730</td>\n",
       "      <td>-20.055568</td>\n",
       "    </tr>\n",
       "  </tbody>\n",
       "</table>\n",
       "</div>"
      ],
      "text/plain": [
       "           0          1          2          3         4          5   \\\n",
       "0  -18.944412   0.551571   0.509848   0.738998  1.027040   0.908598   \n",
       "1    0.551571 -19.136221   0.635346   0.147304  0.528191   3.035500   \n",
       "2    0.509848   0.635346 -25.958249   5.429420  0.265256   1.543640   \n",
       "3    0.738998   0.147304   5.429420 -18.166224  0.030295   0.616783   \n",
       "4    1.027040   0.528191   0.265256   0.030295 -8.236647   0.098818   \n",
       "5    0.908598   3.035500   1.543640   0.616783  0.098818 -26.385356   \n",
       "6    1.582850   0.439157   0.947198   6.174160  0.021352   5.469470   \n",
       "7    1.416720   0.584665   1.125560   0.865584  0.306674   0.330052   \n",
       "8    0.316954   2.137150   3.956290   0.930676  0.248972   4.294110   \n",
       "9    0.193335   0.186979   0.554236   0.039437  0.170135   0.113917   \n",
       "10   0.397915   0.497671   0.131528   0.084805  0.384287   0.869489   \n",
       "11   0.906265   5.351420   3.012010   0.479855  0.074034   3.894900   \n",
       "12   0.893496   0.683162   0.198221   0.103754  0.390482   1.545260   \n",
       "13   0.210494   0.102711   0.096162   0.046730  0.398020   0.099921   \n",
       "14   1.438550   0.679489   0.195081   0.423984  0.109404   0.933372   \n",
       "15   3.370790   1.224190   3.974230   1.071760  1.407660   1.028870   \n",
       "16   2.121110   0.554413   2.030060   0.374866  0.512984   0.857928   \n",
       "17   0.113133   1.163920   0.071917   0.129767  0.717070   0.215737   \n",
       "18   0.240735   0.381533   1.086000   0.325711  0.543833   0.227710   \n",
       "19   2.006010   0.251849   0.196246   0.152335  1.002140   0.301281   \n",
       "\n",
       "           6         7          8          9          10         11  \\\n",
       "0    1.582850  1.416720   0.316954   0.193335   0.397915   0.906265   \n",
       "1    0.439157  0.584665   2.137150   0.186979   0.497671   5.351420   \n",
       "2    0.947198  1.125560   3.956290   0.554236   0.131528   3.012010   \n",
       "3    6.174160  0.865584   0.930676   0.039437   0.084805   0.479855   \n",
       "4    0.021352  0.306674   0.248972   0.170135   0.384287   0.074034   \n",
       "5    5.469470  0.330052   4.294110   0.113917   0.869489   3.894900   \n",
       "6  -22.185925  0.567717   0.570025   0.127395   0.154263   2.584430   \n",
       "7    0.567717 -8.574782   0.249410   0.030450   0.061304   0.373558   \n",
       "8    0.570025  0.249410 -21.479224   0.138190   0.499462   0.890432   \n",
       "9    0.127395  0.030450   0.138190 -20.697288   3.170970   0.323832   \n",
       "10   0.154263  0.061304   0.499462   3.170970 -17.429910   0.257555   \n",
       "11   2.584430  0.373558   0.890432   0.323832   0.257555 -22.658612   \n",
       "12   0.315124  0.174100   0.404141   4.257460   4.854020   0.934276   \n",
       "13   0.081134  0.049931   0.679371   1.059470   2.115170   0.088836   \n",
       "14   0.682355  0.243570   0.696198   0.099929   0.415844   0.556896   \n",
       "15   0.704939  1.341820   0.740169   0.319440   0.344739   0.967130   \n",
       "16   0.822765  0.225833   0.473307   1.458160   0.326622   1.386980   \n",
       "17   0.156557  0.336983   0.262569   0.212483   0.665309   0.137505   \n",
       "18   0.196303  0.103604   3.873440   0.420170   0.398618   0.133264   \n",
       "19   0.588731  0.187247   0.118358   7.821300   1.800340   0.305434   \n",
       "\n",
       "           12         13        14         15         16        17         18  \\\n",
       "0    0.893496   0.210494  1.438550   3.370790   2.121110  0.113133   0.240735   \n",
       "1    0.683162   0.102711  0.679489   1.224190   0.554413  1.163920   0.381533   \n",
       "2    0.198221   0.096162  0.195081   3.974230   2.030060  0.071917   1.086000   \n",
       "3    0.103754   0.046730  0.423984   1.071760   0.374866  0.129767   0.325711   \n",
       "4    0.390482   0.398020  0.109404   1.407660   0.512984  0.717070   0.543833   \n",
       "5    1.545260   0.099921  0.933372   1.028870   0.857928  0.215737   0.227710   \n",
       "6    0.315124   0.081134  0.682355   0.704939   0.822765  0.156557   0.196303   \n",
       "7    0.174100   0.049931  0.243570   1.341820   0.225833  0.336983   0.103604   \n",
       "8    0.404141   0.679371  0.696198   0.740169   0.473307  0.262569   3.873440   \n",
       "9    4.257460   1.059470  0.099929   0.319440   1.458160  0.212483   0.420170   \n",
       "10   4.854020   2.115170  0.415844   0.344739   0.326622  0.665309   0.398618   \n",
       "11   0.934276   0.088836  0.556896   0.967130   1.386980  0.137505   0.133264   \n",
       "12 -21.128073   1.190630  0.171329   0.493905   1.516120  0.515706   0.428437   \n",
       "13   1.190630 -15.731670  0.161444   0.545931   0.171903  1.529640   6.454280   \n",
       "14   0.171329   0.161444 -9.886447   1.613280   0.795384  0.139405   0.216046   \n",
       "15   0.493905   0.545931  1.613280 -25.070347   4.378020  0.523742   0.786993   \n",
       "16   1.516120   0.171903  0.795384   4.378020 -19.796697  0.110864   0.291148   \n",
       "17   0.515706   1.529640  0.139405   0.523742   0.110864 -9.853066   2.485390   \n",
       "18   0.428437   6.454280  0.216046   0.786993   0.291148  2.485390 -18.907945   \n",
       "19   2.058450   0.649892  0.314887   0.232739   1.388230  0.365369   0.314730   \n",
       "\n",
       "           19  \n",
       "0    2.006010  \n",
       "1    0.251849  \n",
       "2    0.196246  \n",
       "3    0.152335  \n",
       "4    1.002140  \n",
       "5    0.301281  \n",
       "6    0.588731  \n",
       "7    0.187247  \n",
       "8    0.118358  \n",
       "9    7.821300  \n",
       "10   1.800340  \n",
       "11   0.305434  \n",
       "12   2.058450  \n",
       "13   0.649892  \n",
       "14   0.314887  \n",
       "15   0.232739  \n",
       "16   1.388230  \n",
       "17   0.365369  \n",
       "18   0.314730  \n",
       "19 -20.055568  "
      ]
     },
     "execution_count": 3,
     "metadata": {},
     "output_type": "execute_result"
    }
   ],
   "source": [
    "data_path = \"data/WAG\"\n",
    "smat_path = os.path.join(data_path, \"smat.csv\")\n",
    "smat_df = pd.read_csv(smat_path, sep=\",\", header=None).replace({\" \": np.nan}).astype(float).fillna(0.0)\n",
    "smat = smat_df\n",
    "# smat += smat.T\n",
    "smat = np.zeros((20, 20))\n",
    "smat[1:, :-1] = smat_df.values\n",
    "smat += smat.T\n",
    "smat -= np.diag(smat.sum(1))\n",
    "pd.DataFrame(smat)"
   ]
  },
  {
   "cell_type": "code",
   "execution_count": 4,
   "id": "6c92983f-8525-40b8-8920-20f7465fe95c",
   "metadata": {},
   "outputs": [],
   "source": [
    "pmat_path = os.path.join(data_path, \"p_diag.txt\")\n",
    "p_mat = pd.read_csv(pmat_path, header=None, sep=\" \").astype(float).iloc[0].values\n",
    "assert p_mat.shape[0] == 20\n",
    "assert p_mat.sum() >= .99\n",
    "assert p_mat.sum() <= 1.01\n",
    "p_mat = p_mat / p_mat.sum()\n",
    "p = np.diag(p_mat)"
   ]
  },
  {
   "cell_type": "code",
   "execution_count": 5,
   "id": "b6aa6dcd-a5d3-4da3-9baf-6a5def356ade",
   "metadata": {},
   "outputs": [
    {
     "data": {
      "text/plain": [
       "20"
      ]
     },
     "execution_count": 5,
     "metadata": {},
     "output_type": "execute_result"
    }
   ],
   "source": [
    "p_mat.shape[0]"
   ]
  },
  {
   "cell_type": "markdown",
   "id": "6c5b4220-835a-48a4-bd6f-a5f7b63cb858",
   "metadata": {},
   "source": [
    "## Parameter initialization"
   ]
  },
  {
   "cell_type": "code",
   "execution_count": 6,
   "id": "67c4b24b-4f22-42b5-8dc1-9544b27cdfc2",
   "metadata": {},
   "outputs": [],
   "source": [
    "Q_true = torch.tensor(smat @ p).float().cuda()\n",
    "num_states = 20\n",
    "pi = torch.tensor(p_mat).float()"
   ]
  },
  {
   "cell_type": "markdown",
   "id": "e5ca80ac-a764-44b1-8547-90da67239a7d",
   "metadata": {},
   "source": [
    "# Preliminary analysis"
   ]
  },
  {
   "cell_type": "code",
   "execution_count": 7,
   "id": "66d15de0-a9e0-4602-b8d9-3c51db55b9fb",
   "metadata": {},
   "outputs": [
    {
     "data": {
      "image/png": "[encoded data removed]",
      "text/plain": [
       "<Figure size 360x1080 with 10 Axes>"
      ]
     },
     "metadata": {
      "needs_background": "light"
     },
     "output_type": "display_data"
    }
   ],
   "source": [
    "fig, axes = plt.subplots(nrows=5, figsize=(5, 15))\n",
    "# for idx, time in enumerate(np.geomspace(1e-3, 10, 5)):\n",
    "for idx, time in enumerate(np.geomspace(1e0, 50, 5)):\n",
    "    plt.sca(axes[idx])\n",
    "    transitions = torch.matrix_exp(time * Q_true)\n",
    "    matri = transitions.cpu().numpy()\n",
    "    vmin = np.percentile(matri, 10.)\n",
    "    vmax = np.percentile(matri, 90.)\n",
    "    sns.heatmap(transitions.cpu().numpy(), vmin=vmin, vmax=vmax)\n",
    "    plt.ylabel(\"Starting state\")\n",
    "    plt.xlabel(\"Ending state\")\n",
    "    plt.title(\"Branching length {}\".format(time))\n",
    "#     plt.show()\n",
    "plt.tight_layout()"
   ]
  },
  {
   "cell_type": "code",
   "execution_count": null,
   "id": "b1d4d01b-38ad-42d2-8081-b397929ced62",
   "metadata": {},
   "outputs": [],
   "source": []
  },
  {
   "cell_type": "markdown",
   "id": "1a43d2a6-56b1-4cde-bdd7-665e70cc00f0",
   "metadata": {},
   "source": [
    "# Model fitting"
   ]
  },
  {
   "cell_type": "code",
   "execution_count": 20,
   "id": "0d443e79-b966-45d3-831e-7abfc8cf4eac",
   "metadata": {},
   "outputs": [],
   "source": [
    "tdata = generate_data(Q_true=Q_true, m=int(1e6), batch_size=1000, quantile=20.)\n",
    "\n",
    "quantized_data = convert_triplet_to_quantized(tdata=tdata, num_states=num_states, q=100)\n",
    "\n",
    "mat_module = RateMatrix(num_states=num_states, mode=\"stationary\", pi=pi).cuda()\n",
    "df_res, Q = train_quantization(\n",
    "    rate_module=mat_module, \n",
    "    quantized_dataset=quantized_data,\n",
    "    lr=1e-4,\n",
    "    num_epochs=2000,\n",
    "    Q_true=Q_true,\n",
    ")"
   ]
  },
  {
   "cell_type": "code",
   "execution_count": 71,
   "id": "eb6118ef-fc62-47d4-b2f9-ee75f2b50a54",
   "metadata": {},
   "outputs": [
    {
     "data": {
      "text/plain": [
       "100"
      ]
     },
     "execution_count": 71,
     "metadata": {},
     "output_type": "execute_result"
    }
   ],
   "source": [
    "len(quantized_data)"
   ]
  },
  {
   "cell_type": "code",
   "execution_count": 46,
   "id": "a5276e5b-8ea7-4291-b139-3be32ea7daae",
   "metadata": {},
   "outputs": [
    {
     "data": {
      "image/png": "[encoded data removed]",
      "text/plain": [
       "<Figure size 576x288 with 2 Axes>"
      ]
     },
     "metadata": {
      "needs_background": "light"
     },
     "output_type": "display_data"
    }
   ],
   "source": [
    "FT_SIZE = 13\n",
    "fig, axes = plt.subplots(ncols=2, sharex=True, figsize=(8, 4))\n",
    "plt.sca(axes[1])\n",
    "df_res.loss.iloc[5:].plot()\n",
    "plt.ylabel(\"Negative likelihood\", fontsize=FT_SIZE)\n",
    "plt.xlabel(\"# of iterations\", fontsize=FT_SIZE)\n",
    "plt.sca(axes[0])\n",
    "df_res.frob_norm.iloc[5:].plot()\n",
    "plt.ylabel(\"Error (frobenius norm)\", fontsize=FT_SIZE)\n",
    "plt.xlabel(\"# of iterations\", fontsize=FT_SIZE)\n",
    "\n",
    "plt.suptitle(\"WAG Matrix estimation (Exp(20) branch sampling)\", fontsize=FT_SIZE+1)\n",
    "plt.tight_layout()\n",
    "# plt.savefig(\"figures/wag_20.pdf\")"
   ]
  },
  {
   "cell_type": "code",
   "execution_count": 61,
   "id": "bfc04830-4ef8-4915-8fdc-eba92698aae3",
   "metadata": {},
   "outputs": [
    {
     "data": {
      "image/png": "[encoded data removed]",
      "text/plain": [
       "<Figure size 864x288 with 6 Axes>"
      ]
     },
     "metadata": {
      "needs_background": "light"
     },
     "output_type": "display_data"
    }
   ],
   "source": [
    "fig, axes = plt.subplots(ncols=3, figsize=(12, 4))\n",
    "\n",
    "plt.sca(axes[1])\n",
    "matri = (Q.detach().cpu().numpy())\n",
    "vmin = np.percentile(matri, 5)\n",
    "vmax = np.percentile(matri, 95)\n",
    "sns.heatmap(matri, vmin=vmin, vmax=vmax)\n",
    "axes[1].set_title('Estimated matrix', fontsize=FT_SIZE)\n",
    "\n",
    "plt.sca(axes[0])\n",
    "matri = (Q_true.detach().cpu().numpy())\n",
    "vmin = np.percentile(matri, 5)\n",
    "vmax = np.percentile(matri, 95)\n",
    "sns.heatmap(matri, vmin=vmin, vmax=vmax)\n",
    "axes[0].set_title('WAG matrix', fontsize=FT_SIZE)\n",
    "\n",
    "plt.sca(axes[2])\n",
    "matri = (Q.detach().cpu().numpy()) - (Q_true.detach().cpu().numpy())\n",
    "matri = np.abs(matri)\n",
    "vmin = np.percentile(matri, 5)\n",
    "vmax = np.percentile(matri, 95)\n",
    "sns.heatmap(matri, vmin=vmin, vmax=vmax, cmap=\"cividis\")\n",
    "axes[2].set_title('Absolute difference', fontsize=FT_SIZE)\n",
    "plt.tight_layout()\n",
    "# plt.savefig(\"figures/matrices_20.pdf\")"
   ]
  },
  {
   "cell_type": "code",
   "execution_count": null,
   "id": "d73c87e2-fbee-431a-b099-9916f9a23445",
   "metadata": {},
   "outputs": [],
   "source": []
  },
  {
   "cell_type": "markdown",
   "id": "b39190f4-70c2-40e6-8d5f-9b01637b5bbd",
   "metadata": {},
   "source": [
    "### Idea: weight init"
   ]
  },
  {
   "cell_type": "code",
   "execution_count": 28,
   "id": "2df38799-8ba5-40af-bbf7-b8938516fcdc",
   "metadata": {},
   "outputs": [
    {
     "name": "stdout",
     "output_type": "stream",
     "text": [
      "Generating 1000000 synthetic datapoints of the form (starting_state, ending_state, branch_length)\n",
      "rate 0.006931471805599453\n"
     ]
    },
    {
     "name": "stderr",
     "output_type": "stream",
     "text": [
      "/data/yosef2/users/pierreboyeau/phylo/ratelearn/ratelearn/simulate.py:33: UserWarning: To copy construct from a tensor, it is recommended to use sourceTensor.clone().detach() or sourceTensor.clone().detach().requires_grad_(True), rather than torch.tensor(sourceTensor).\n"
     ]
    },
    {
     "data": {
      "application/vnd.jupyter.widget-view+json": {
       "model_id": "52577d7ae69c40849ed759615edb12d2",
       "version_major": 2,
       "version_minor": 0
      },
      "text/plain": [
       "  0%|          | 0/1000 [00:00<?, ?it/s]"
      ]
     },
     "metadata": {},
     "output_type": "display_data"
    },
    {
     "name": "stdout",
     "output_type": "stream",
     "text": [
      "torch.Size([200]) torch.Size([200, 20, 20])\n"
     ]
    }
   ],
   "source": [
    "m = int(1e6)\n",
    "tdata = generate_data(Q_true=Q_true, m=m, batch_size=1000, quantile=100., alpha=0.5)\n",
    "quantized_data = convert_triplet_to_quantized(tdata=tdata, num_states=num_states, q=200)"
   ]
  },
  {
   "cell_type": "code",
   "execution_count": 29,
   "id": "a22bc11e-4724-4aef-9121-058dd7b491ad",
   "metadata": {},
   "outputs": [],
   "source": [
    "lkl_estimates = pd.DataFrame()\n",
    "for i in range(100):\n",
    "    torch.manual_seed(i)\n",
    "    mat_module = RateMatrix(num_states=num_states, mode=\"stationary\", pi=pi).cuda()\n",
    "    lkl = estimate_likelihood(mat_module, quantized_data, m=m)\n",
    "    lkl_estimates = lkl_estimates.append(dict(neg_lkl=lkl, seed=i), ignore_index=True)\n",
    "best_seed = lkl_estimates.set_index(\"seed\").squeeze().argmin()"
   ]
  },
  {
   "cell_type": "code",
   "execution_count": 30,
   "id": "83f1722f-634a-4100-bb02-3a6e16d22232",
   "metadata": {},
   "outputs": [],
   "source": [
    "torch.manual_seed(best_seed)\n",
    "mat_module = RateMatrix(num_states=num_states, mode=\"stationary\", pi=pi).cuda()"
   ]
  },
  {
   "cell_type": "code",
   "execution_count": 52,
   "id": "c34f097f-5453-4d6d-8dda-57aa2deaa9a9",
   "metadata": {},
   "outputs": [
    {
     "name": "stdout",
     "output_type": "stream",
     "text": [
      "Training for 3000 epochs\n"
     ]
    },
    {
     "data": {
      "application/vnd.jupyter.widget-view+json": {
       "model_id": "3dd541bcdd3d461a854fa95a707ccca4",
       "version_major": 2,
       "version_minor": 0
      },
      "text/plain": [
       "  0%|          | 0/3000 [00:00<?, ?it/s]"
      ]
     },
     "metadata": {},
     "output_type": "display_data"
    }
   ],
   "source": [
    "torch.manual_seed(590345)\n",
    "mat_module = RateMatrix(num_states=num_states, mode=\"stationary\", pi=pi).cuda()\n",
    "df_res, Q = train_quantization(\n",
    "    rate_module=mat_module, \n",
    "    quantized_dataset=quantized_data,\n",
    "    lr=5e2,\n",
    "    num_epochs=3000,\n",
    "    Q_true=Q_true,\n",
    "    m=m,\n",
    ")"
   ]
  },
  {
   "cell_type": "code",
   "execution_count": 53,
   "id": "adac58ee-b48e-4ed1-b9d3-1020fc981a25",
   "metadata": {},
   "outputs": [
    {
     "data": {
      "image/png": "[encoded data removed]",
      "text/plain": [
       "<Figure size 576x288 with 2 Axes>"
      ]
     },
     "metadata": {
      "needs_background": "light"
     },
     "output_type": "display_data"
    }
   ],
   "source": [
    "FT_SIZE = 13\n",
    "fig, axes = plt.subplots(ncols=2, sharex=True, figsize=(8, 4))\n",
    "plt.sca(axes[1])\n",
    "# df_res.loss.iloc[5:].plot()\n",
    "df_res.loss.plot()\n",
    "\n",
    "plt.ylabel(\"Negative likelihood\", fontsize=FT_SIZE)\n",
    "plt.xlabel(\"# of iterations\", fontsize=FT_SIZE)\n",
    "plt.sca(axes[0])\n",
    "# df_res.frob_norm.iloc[5:].plot()\n",
    "df_res.frob_norm.plot()\n",
    "\n",
    "plt.ylabel(\"Error (frobenius norm)\", fontsize=FT_SIZE)\n",
    "plt.xlabel(\"# of iterations\", fontsize=FT_SIZE)\n",
    "\n",
    "plt.suptitle(\"WAG Matrix estimation (Exp(20) branch sampling)\", fontsize=FT_SIZE+1)\n",
    "plt.tight_layout()\n",
    "# plt.savefig(\"figures/wag_20.pdf\")"
   ]
  },
  {
   "cell_type": "markdown",
   "id": "1726e1a8-014c-4c37-88a8-74167c61bb0a",
   "metadata": {},
   "source": [
    "# Experimental analysis"
   ]
  },
  {
   "cell_type": "markdown",
   "id": "ba01565e-6831-458e-8ee5-cecd9828a9ff",
   "metadata": {},
   "source": [
    "## Effect of branch sampling type"
   ]
  },
  {
   "cell_type": "code",
   "execution_count": null,
   "id": "bf8fee9b-43fe-4d40-9a15-be9167d436b1",
   "metadata": {},
   "outputs": [],
   "source": []
  },
  {
   "cell_type": "code",
   "execution_count": null,
   "id": "afa8ca3e-fcd1-44a2-bbdc-865c7337d895",
   "metadata": {},
   "outputs": [],
   "source": []
  },
  {
   "cell_type": "markdown",
   "id": "40ace757-3f8a-4a75-bdaf-0b98879bc935",
   "metadata": {},
   "source": [
    "## Effect of branch sampling range"
   ]
  },
  {
   "cell_type": "code",
   "execution_count": 62,
   "id": "757fee00-4c7e-4c5e-9733-0d4022475881",
   "metadata": {},
   "outputs": [
    {
     "data": {
      "text/html": [
       "<div>\n",
       "<style scoped>\n",
       "    .dataframe tbody tr th:only-of-type {\n",
       "        vertical-align: middle;\n",
       "    }\n",
       "\n",
       "    .dataframe tbody tr th {\n",
       "        vertical-align: top;\n",
       "    }\n",
       "\n",
       "    .dataframe thead th {\n",
       "        text-align: right;\n",
       "    }\n",
       "</style>\n",
       "<table border=\"1\" class=\"dataframe\">\n",
       "  <thead>\n",
       "    <tr style=\"text-align: right;\">\n",
       "      <th></th>\n",
       "      <th>epoch</th>\n",
       "      <th>frob_norm</th>\n",
       "      <th>loss</th>\n",
       "      <th>time</th>\n",
       "    </tr>\n",
       "  </thead>\n",
       "  <tbody>\n",
       "    <tr>\n",
       "      <th>0</th>\n",
       "      <td>0.0</td>\n",
       "      <td>2.681576</td>\n",
       "      <td>2.796083e+06</td>\n",
       "      <td>0.086731</td>\n",
       "    </tr>\n",
       "    <tr>\n",
       "      <th>1</th>\n",
       "      <td>1.0</td>\n",
       "      <td>2.576543</td>\n",
       "      <td>2.770858e+06</td>\n",
       "      <td>0.132007</td>\n",
       "    </tr>\n",
       "    <tr>\n",
       "      <th>2</th>\n",
       "      <td>2.0</td>\n",
       "      <td>2.491289</td>\n",
       "      <td>2.752227e+06</td>\n",
       "      <td>0.176888</td>\n",
       "    </tr>\n",
       "    <tr>\n",
       "      <th>3</th>\n",
       "      <td>3.0</td>\n",
       "      <td>2.421549</td>\n",
       "      <td>2.738112e+06</td>\n",
       "      <td>0.229256</td>\n",
       "    </tr>\n",
       "    <tr>\n",
       "      <th>4</th>\n",
       "      <td>4.0</td>\n",
       "      <td>2.363990</td>\n",
       "      <td>2.727283e+06</td>\n",
       "      <td>0.277627</td>\n",
       "    </tr>\n",
       "    <tr>\n",
       "      <th>...</th>\n",
       "      <td>...</td>\n",
       "      <td>...</td>\n",
       "      <td>...</td>\n",
       "      <td>...</td>\n",
       "    </tr>\n",
       "    <tr>\n",
       "      <th>1995</th>\n",
       "      <td>1995.0</td>\n",
       "      <td>0.901325</td>\n",
       "      <td>2.633351e+06</td>\n",
       "      <td>100.420117</td>\n",
       "    </tr>\n",
       "    <tr>\n",
       "      <th>1996</th>\n",
       "      <td>1996.0</td>\n",
       "      <td>0.901312</td>\n",
       "      <td>2.633351e+06</td>\n",
       "      <td>100.470282</td>\n",
       "    </tr>\n",
       "    <tr>\n",
       "      <th>1997</th>\n",
       "      <td>1997.0</td>\n",
       "      <td>0.901299</td>\n",
       "      <td>2.633351e+06</td>\n",
       "      <td>100.518696</td>\n",
       "    </tr>\n",
       "    <tr>\n",
       "      <th>1998</th>\n",
       "      <td>1998.0</td>\n",
       "      <td>0.901287</td>\n",
       "      <td>2.633351e+06</td>\n",
       "      <td>100.570354</td>\n",
       "    </tr>\n",
       "    <tr>\n",
       "      <th>1999</th>\n",
       "      <td>1999.0</td>\n",
       "      <td>0.901274</td>\n",
       "      <td>2.633351e+06</td>\n",
       "      <td>100.627939</td>\n",
       "    </tr>\n",
       "  </tbody>\n",
       "</table>\n",
       "<p>2000 rows × 4 columns</p>\n",
       "</div>"
      ],
      "text/plain": [
       "       epoch  frob_norm          loss        time\n",
       "0        0.0   2.681576  2.796083e+06    0.086731\n",
       "1        1.0   2.576543  2.770858e+06    0.132007\n",
       "2        2.0   2.491289  2.752227e+06    0.176888\n",
       "3        3.0   2.421549  2.738112e+06    0.229256\n",
       "4        4.0   2.363990  2.727283e+06    0.277627\n",
       "...      ...        ...           ...         ...\n",
       "1995  1995.0   0.901325  2.633351e+06  100.420117\n",
       "1996  1996.0   0.901312  2.633351e+06  100.470282\n",
       "1997  1997.0   0.901299  2.633351e+06  100.518696\n",
       "1998  1998.0   0.901287  2.633351e+06  100.570354\n",
       "1999  1999.0   0.901274  2.633351e+06  100.627939\n",
       "\n",
       "[2000 rows x 4 columns]"
      ]
     },
     "execution_count": 62,
     "metadata": {},
     "output_type": "execute_result"
    }
   ],
   "source": [
    "df_res"
   ]
  },
  {
   "cell_type": "code",
   "execution_count": 65,
   "id": "8805518c-0f82-43a5-8277-140cd8fb91a2",
   "metadata": {},
   "outputs": [
    {
     "name": "stdout",
     "output_type": "stream",
     "text": [
      "Generating 1000000 synthetic datapoints of the form (starting_state, ending_state, branch_length)\n"
     ]
    },
    {
     "name": "stderr",
     "output_type": "stream",
     "text": [
      "/data/yosef2/users/pierreboyeau/phylo/ratelearn/ratelearn/simulate.py:33: UserWarning: To copy construct from a tensor, it is recommended to use sourceTensor.clone().detach() or sourceTensor.clone().detach().requires_grad_(True), rather than torch.tensor(sourceTensor).\n",
      "  Q_true = torch.tensor(Q_true, device=\"cuda\")\n"
     ]
    },
    {
     "data": {
      "application/vnd.jupyter.widget-view+json": {
       "model_id": "f66d9b59c40a46d5a0e1204db3783e01",
       "version_major": 2,
       "version_minor": 0
      },
      "text/plain": [
       "  0%|          | 0/1000 [00:00<?, ?it/s]"
      ]
     },
     "metadata": {},
     "output_type": "display_data"
    },
    {
     "name": "stdout",
     "output_type": "stream",
     "text": [
      "torch.Size([100]) torch.Size([100, 20, 20])\n",
      "Training for 2000 epochs\n"
     ]
    },
    {
     "data": {
      "application/vnd.jupyter.widget-view+json": {
       "model_id": "80787274163a400ca8cf76f0e38ada36",
       "version_major": 2,
       "version_minor": 0
      },
      "text/plain": [
       "  0%|          | 0/2000 [00:00<?, ?it/s]"
      ]
     },
     "metadata": {},
     "output_type": "display_data"
    },
    {
     "name": "stdout",
     "output_type": "stream",
     "text": [
      "Generating 1000000 synthetic datapoints of the form (starting_state, ending_state, branch_length)\n"
     ]
    },
    {
     "name": "stderr",
     "output_type": "stream",
     "text": [
      "/data/yosef2/users/pierreboyeau/phylo/ratelearn/ratelearn/simulate.py:33: UserWarning: To copy construct from a tensor, it is recommended to use sourceTensor.clone().detach() or sourceTensor.clone().detach().requires_grad_(True), rather than torch.tensor(sourceTensor).\n",
      "  Q_true = torch.tensor(Q_true, device=\"cuda\")\n"
     ]
    },
    {
     "data": {
      "application/vnd.jupyter.widget-view+json": {
       "model_id": "46c2ec10983d48688532ab4e68dd2ff7",
       "version_major": 2,
       "version_minor": 0
      },
      "text/plain": [
       "  0%|          | 0/1000 [00:00<?, ?it/s]"
      ]
     },
     "metadata": {},
     "output_type": "display_data"
    },
    {
     "name": "stdout",
     "output_type": "stream",
     "text": [
      "torch.Size([100]) torch.Size([100, 20, 20])\n",
      "Training for 2000 epochs\n"
     ]
    },
    {
     "data": {
      "application/vnd.jupyter.widget-view+json": {
       "model_id": "d2be3164cd5d4aec8c5a88c612e630d4",
       "version_major": 2,
       "version_minor": 0
      },
      "text/plain": [
       "  0%|          | 0/2000 [00:00<?, ?it/s]"
      ]
     },
     "metadata": {},
     "output_type": "display_data"
    },
    {
     "name": "stdout",
     "output_type": "stream",
     "text": [
      "Generating 1000000 synthetic datapoints of the form (starting_state, ending_state, branch_length)\n"
     ]
    },
    {
     "name": "stderr",
     "output_type": "stream",
     "text": [
      "/data/yosef2/users/pierreboyeau/phylo/ratelearn/ratelearn/simulate.py:33: UserWarning: To copy construct from a tensor, it is recommended to use sourceTensor.clone().detach() or sourceTensor.clone().detach().requires_grad_(True), rather than torch.tensor(sourceTensor).\n",
      "  Q_true = torch.tensor(Q_true, device=\"cuda\")\n"
     ]
    },
    {
     "data": {
      "application/vnd.jupyter.widget-view+json": {
       "model_id": "1084aac5f66047a68ded74af12b55fb8",
       "version_major": 2,
       "version_minor": 0
      },
      "text/plain": [
       "  0%|          | 0/1000 [00:00<?, ?it/s]"
      ]
     },
     "metadata": {},
     "output_type": "display_data"
    },
    {
     "name": "stdout",
     "output_type": "stream",
     "text": [
      "torch.Size([100]) torch.Size([100, 20, 20])\n",
      "Training for 2000 epochs\n"
     ]
    },
    {
     "data": {
      "application/vnd.jupyter.widget-view+json": {
       "model_id": "fc92c392511346a99dbd976ed862629d",
       "version_major": 2,
       "version_minor": 0
      },
      "text/plain": [
       "  0%|          | 0/2000 [00:00<?, ?it/s]"
      ]
     },
     "metadata": {},
     "output_type": "display_data"
    },
    {
     "name": "stdout",
     "output_type": "stream",
     "text": [
      "Generating 1000000 synthetic datapoints of the form (starting_state, ending_state, branch_length)\n"
     ]
    },
    {
     "name": "stderr",
     "output_type": "stream",
     "text": [
      "/data/yosef2/users/pierreboyeau/phylo/ratelearn/ratelearn/simulate.py:33: UserWarning: To copy construct from a tensor, it is recommended to use sourceTensor.clone().detach() or sourceTensor.clone().detach().requires_grad_(True), rather than torch.tensor(sourceTensor).\n",
      "  Q_true = torch.tensor(Q_true, device=\"cuda\")\n"
     ]
    },
    {
     "data": {
      "application/vnd.jupyter.widget-view+json": {
       "model_id": "bc41b5e061a5423a8d162b39c31dd6d9",
       "version_major": 2,
       "version_minor": 0
      },
      "text/plain": [
       "  0%|          | 0/1000 [00:00<?, ?it/s]"
      ]
     },
     "metadata": {},
     "output_type": "display_data"
    },
    {
     "name": "stdout",
     "output_type": "stream",
     "text": [
      "torch.Size([100]) torch.Size([100, 20, 20])\n",
      "Training for 2000 epochs\n"
     ]
    },
    {
     "data": {
      "application/vnd.jupyter.widget-view+json": {
       "model_id": "78b14d7a1f634543b7d533415f4e7c6d",
       "version_major": 2,
       "version_minor": 0
      },
      "text/plain": [
       "  0%|          | 0/2000 [00:00<?, ?it/s]"
      ]
     },
     "metadata": {},
     "output_type": "display_data"
    },
    {
     "name": "stdout",
     "output_type": "stream",
     "text": [
      "Generating 1000000 synthetic datapoints of the form (starting_state, ending_state, branch_length)\n"
     ]
    },
    {
     "name": "stderr",
     "output_type": "stream",
     "text": [
      "/data/yosef2/users/pierreboyeau/phylo/ratelearn/ratelearn/simulate.py:33: UserWarning: To copy construct from a tensor, it is recommended to use sourceTensor.clone().detach() or sourceTensor.clone().detach().requires_grad_(True), rather than torch.tensor(sourceTensor).\n",
      "  Q_true = torch.tensor(Q_true, device=\"cuda\")\n"
     ]
    },
    {
     "data": {
      "application/vnd.jupyter.widget-view+json": {
       "model_id": "1539f6d9e6414490bbaa152cdf1a8467",
       "version_major": 2,
       "version_minor": 0
      },
      "text/plain": [
       "  0%|          | 0/1000 [00:00<?, ?it/s]"
      ]
     },
     "metadata": {},
     "output_type": "display_data"
    },
    {
     "name": "stdout",
     "output_type": "stream",
     "text": [
      "torch.Size([100]) torch.Size([100, 20, 20])\n",
      "Training for 2000 epochs\n"
     ]
    },
    {
     "data": {
      "application/vnd.jupyter.widget-view+json": {
       "model_id": "1b96b5615e9c4657a68bae9be215506a",
       "version_major": 2,
       "version_minor": 0
      },
      "text/plain": [
       "  0%|          | 0/2000 [00:00<?, ?it/s]"
      ]
     },
     "metadata": {},
     "output_type": "display_data"
    },
    {
     "name": "stdout",
     "output_type": "stream",
     "text": [
      "Generating 1000000 synthetic datapoints of the form (starting_state, ending_state, branch_length)\n"
     ]
    },
    {
     "name": "stderr",
     "output_type": "stream",
     "text": [
      "/data/yosef2/users/pierreboyeau/phylo/ratelearn/ratelearn/simulate.py:33: UserWarning: To copy construct from a tensor, it is recommended to use sourceTensor.clone().detach() or sourceTensor.clone().detach().requires_grad_(True), rather than torch.tensor(sourceTensor).\n",
      "  Q_true = torch.tensor(Q_true, device=\"cuda\")\n"
     ]
    },
    {
     "data": {
      "application/vnd.jupyter.widget-view+json": {
       "model_id": "7461ee52130245fe99cc87274c900635",
       "version_major": 2,
       "version_minor": 0
      },
      "text/plain": [
       "  0%|          | 0/1000 [00:00<?, ?it/s]"
      ]
     },
     "metadata": {},
     "output_type": "display_data"
    },
    {
     "name": "stdout",
     "output_type": "stream",
     "text": [
      "torch.Size([100]) torch.Size([100, 20, 20])\n",
      "Training for 2000 epochs\n"
     ]
    },
    {
     "data": {
      "application/vnd.jupyter.widget-view+json": {
       "model_id": "9c614c78cc794eef90b183e3ac288de4",
       "version_major": 2,
       "version_minor": 0
      },
      "text/plain": [
       "  0%|          | 0/2000 [00:00<?, ?it/s]"
      ]
     },
     "metadata": {},
     "output_type": "display_data"
    },
    {
     "name": "stdout",
     "output_type": "stream",
     "text": [
      "Generating 1000000 synthetic datapoints of the form (starting_state, ending_state, branch_length)\n"
     ]
    },
    {
     "name": "stderr",
     "output_type": "stream",
     "text": [
      "/data/yosef2/users/pierreboyeau/phylo/ratelearn/ratelearn/simulate.py:33: UserWarning: To copy construct from a tensor, it is recommended to use sourceTensor.clone().detach() or sourceTensor.clone().detach().requires_grad_(True), rather than torch.tensor(sourceTensor).\n",
      "  Q_true = torch.tensor(Q_true, device=\"cuda\")\n"
     ]
    },
    {
     "data": {
      "application/vnd.jupyter.widget-view+json": {
       "model_id": "d7b263327ff54645a5c6ff6987519e57",
       "version_major": 2,
       "version_minor": 0
      },
      "text/plain": [
       "  0%|          | 0/1000 [00:00<?, ?it/s]"
      ]
     },
     "metadata": {},
     "output_type": "display_data"
    },
    {
     "name": "stdout",
     "output_type": "stream",
     "text": [
      "torch.Size([100]) torch.Size([100, 20, 20])\n",
      "Training for 2000 epochs\n"
     ]
    },
    {
     "data": {
      "application/vnd.jupyter.widget-view+json": {
       "model_id": "13787bcc4a204f4ab56b68204f2bda7c",
       "version_major": 2,
       "version_minor": 0
      },
      "text/plain": [
       "  0%|          | 0/2000 [00:00<?, ?it/s]"
      ]
     },
     "metadata": {},
     "output_type": "display_data"
    },
    {
     "name": "stdout",
     "output_type": "stream",
     "text": [
      "Generating 1000000 synthetic datapoints of the form (starting_state, ending_state, branch_length)\n"
     ]
    },
    {
     "name": "stderr",
     "output_type": "stream",
     "text": [
      "/data/yosef2/users/pierreboyeau/phylo/ratelearn/ratelearn/simulate.py:33: UserWarning: To copy construct from a tensor, it is recommended to use sourceTensor.clone().detach() or sourceTensor.clone().detach().requires_grad_(True), rather than torch.tensor(sourceTensor).\n",
      "  Q_true = torch.tensor(Q_true, device=\"cuda\")\n"
     ]
    },
    {
     "data": {
      "application/vnd.jupyter.widget-view+json": {
       "model_id": "1edd09cd35334118b6e5cf2bc280a2d7",
       "version_major": 2,
       "version_minor": 0
      },
      "text/plain": [
       "  0%|          | 0/1000 [00:00<?, ?it/s]"
      ]
     },
     "metadata": {},
     "output_type": "display_data"
    },
    {
     "ename": "KeyboardInterrupt",
     "evalue": "",
     "output_type": "error",
     "traceback": [
      "\u001b[0;31m---------------------------------------------------------------------------\u001b[0m",
      "\u001b[0;31mKeyboardInterrupt\u001b[0m                         Traceback (most recent call last)",
      "\u001b[0;32m<ipython-input-65-57f97ff7eb4a>\u001b[0m in \u001b[0;36m<module>\u001b[0;34m\u001b[0m\n\u001b[1;32m      1\u001b[0m \u001b[0mdf_res_all\u001b[0m \u001b[0;34m=\u001b[0m \u001b[0mpd\u001b[0m\u001b[0;34m.\u001b[0m\u001b[0mDataFrame\u001b[0m\u001b[0;34m(\u001b[0m\u001b[0;34m)\u001b[0m\u001b[0;34m\u001b[0m\u001b[0;34m\u001b[0m\u001b[0m\n\u001b[1;32m      2\u001b[0m \u001b[0;32mfor\u001b[0m \u001b[0mqt\u001b[0m \u001b[0;32min\u001b[0m \u001b[0;34m[\u001b[0m\u001b[0;36m0.1\u001b[0m\u001b[0;34m,\u001b[0m \u001b[0;36m1\u001b[0m\u001b[0;34m,\u001b[0m \u001b[0;36m5\u001b[0m\u001b[0;34m,\u001b[0m \u001b[0;36m10\u001b[0m\u001b[0;34m,\u001b[0m \u001b[0;36m25\u001b[0m\u001b[0;34m,\u001b[0m \u001b[0;36m50\u001b[0m\u001b[0;34m,\u001b[0m \u001b[0;36m100\u001b[0m\u001b[0;34m,\u001b[0m \u001b[0;36m200\u001b[0m\u001b[0;34m]\u001b[0m\u001b[0;34m:\u001b[0m\u001b[0;34m\u001b[0m\u001b[0;34m\u001b[0m\u001b[0m\n\u001b[0;32m----> 3\u001b[0;31m     \u001b[0mtdata\u001b[0m \u001b[0;34m=\u001b[0m \u001b[0mgenerate_data\u001b[0m\u001b[0;34m(\u001b[0m\u001b[0mQ_true\u001b[0m\u001b[0;34m=\u001b[0m\u001b[0mQ_true\u001b[0m\u001b[0;34m,\u001b[0m \u001b[0mm\u001b[0m\u001b[0;34m=\u001b[0m\u001b[0mint\u001b[0m\u001b[0;34m(\u001b[0m\u001b[0;36m1e6\u001b[0m\u001b[0;34m)\u001b[0m\u001b[0;34m,\u001b[0m \u001b[0mbatch_size\u001b[0m\u001b[0;34m=\u001b[0m\u001b[0;36m1000\u001b[0m\u001b[0;34m,\u001b[0m \u001b[0mquantile\u001b[0m\u001b[0;34m=\u001b[0m\u001b[0mqt\u001b[0m\u001b[0;34m)\u001b[0m\u001b[0;34m\u001b[0m\u001b[0;34m\u001b[0m\u001b[0m\n\u001b[0m\u001b[1;32m      4\u001b[0m     \u001b[0mquantized_data\u001b[0m \u001b[0;34m=\u001b[0m \u001b[0mconvert_triplet_to_quantized\u001b[0m\u001b[0;34m(\u001b[0m\u001b[0mtdata\u001b[0m\u001b[0;34m=\u001b[0m\u001b[0mtdata\u001b[0m\u001b[0;34m,\u001b[0m \u001b[0mnum_states\u001b[0m\u001b[0;34m=\u001b[0m\u001b[0mnum_states\u001b[0m\u001b[0;34m,\u001b[0m \u001b[0mq\u001b[0m\u001b[0;34m=\u001b[0m\u001b[0;36m100\u001b[0m\u001b[0;34m)\u001b[0m\u001b[0;34m\u001b[0m\u001b[0;34m\u001b[0m\u001b[0m\n\u001b[1;32m      5\u001b[0m     \u001b[0mmat_module\u001b[0m \u001b[0;34m=\u001b[0m \u001b[0mRateMatrix\u001b[0m\u001b[0;34m(\u001b[0m\u001b[0mnum_states\u001b[0m\u001b[0;34m=\u001b[0m\u001b[0mnum_states\u001b[0m\u001b[0;34m,\u001b[0m \u001b[0mmode\u001b[0m\u001b[0;34m=\u001b[0m\u001b[0;34m\"stationary\"\u001b[0m\u001b[0;34m,\u001b[0m \u001b[0mpi\u001b[0m\u001b[0;34m=\u001b[0m\u001b[0mpi\u001b[0m\u001b[0;34m)\u001b[0m\u001b[0;34m.\u001b[0m\u001b[0mcuda\u001b[0m\u001b[0;34m(\u001b[0m\u001b[0;34m)\u001b[0m\u001b[0;34m\u001b[0m\u001b[0;34m\u001b[0m\u001b[0m\n",
      "\u001b[0;32m/data/yosef2/users/pierreboyeau/phylo/ratelearn/ratelearn/simulate.py\u001b[0m in \u001b[0;36mgenerate_data\u001b[0;34m(Q_true, m, batch_size, quantile, alpha)\u001b[0m\n\u001b[1;32m     50\u001b[0m         \u001b[0mbranch_length_\u001b[0m \u001b[0;34m=\u001b[0m \u001b[0mbranch_length_\u001b[0m\u001b[0;34m.\u001b[0m\u001b[0mto\u001b[0m\u001b[0;34m(\u001b[0m\u001b[0;34m\"cuda\"\u001b[0m\u001b[0;34m)\u001b[0m\u001b[0;34m\u001b[0m\u001b[0;34m\u001b[0m\u001b[0m\n\u001b[1;32m     51\u001b[0m         transition_probs_from_starting_state = torch.matrix_exp(\n\u001b[0;32m---> 52\u001b[0;31m             \u001b[0mbranch_length_\u001b[0m\u001b[0;34m[\u001b[0m\u001b[0;34m:\u001b[0m\u001b[0;34m,\u001b[0m \u001b[0;32mNone\u001b[0m\u001b[0;34m,\u001b[0m \u001b[0;32mNone\u001b[0m\u001b[0;34m]\u001b[0m \u001b[0;34m*\u001b[0m \u001b[0mQ_true\u001b[0m\u001b[0;34m\u001b[0m\u001b[0;34m\u001b[0m\u001b[0m\n\u001b[0m\u001b[1;32m     53\u001b[0m         )\n\u001b[1;32m     54\u001b[0m         transition_probs_from_starting_state = transition_probs_from_starting_state[\n",
      "\u001b[0;31mKeyboardInterrupt\u001b[0m: "
     ]
    }
   ],
   "source": [
    "df_res_all = pd.DataFrame()\n",
    "for qt in [0.1, 1, 5, 10, 25, 50, 100, 200]:\n",
    "    tdata = generate_data(Q_true=Q_true, m=int(1e6), batch_size=1000, quantile=qt)\n",
    "    quantized_data = convert_triplet_to_quantized(tdata=tdata, num_states=num_states, q=100)\n",
    "    mat_module = RateMatrix(num_states=num_states, mode=\"stationary\", pi=pi).cuda()\n",
    "    df_res, Q = train_quantization(\n",
    "        rate_module=mat_module, \n",
    "        quantized_dataset=quantized_data,\n",
    "        lr=1e-4,\n",
    "        num_epochs=2000,\n",
    "        Q_true=Q_true,\n",
    "    )\n",
    "    df_res = df_res.assign(quantile_value=qt)\n",
    "    df_res_all = df_res_all.append(df_res)"
   ]
  },
  {
   "cell_type": "code",
   "execution_count": 69,
   "id": "dd97bd0a-470c-43bc-92c8-0a82914f4857",
   "metadata": {},
   "outputs": [
    {
     "data": {
      "image/png": "[encoded data removed]",
      "text/plain": [
       "<Figure size 640x480 with 1 Axes>"
      ]
     },
     "metadata": {},
     "output_type": "display_data"
    },
    {
     "data": {
      "text/plain": [
       "<ggplot: (8749911249277)>"
      ]
     },
     "execution_count": 69,
     "metadata": {},
     "output_type": "execute_result"
    }
   ],
   "source": [
    "(\n",
    "    p9.ggplot(df_res_all, p9.aes(x=\"epoch\", y=\"frob_norm\", color=\"quantile_value\"))\n",
    "    + p9.geom_point()\n",
    ")"
   ]
  },
  {
   "cell_type": "code",
   "execution_count": null,
   "id": "f12802fe-ca20-43e1-99d0-8f3c11df67c3",
   "metadata": {},
   "outputs": [],
   "source": []
  }
 ],
 "metadata": {
  "kernelspec": {
   "display_name": "Python 3",
   "language": "python",
   "name": "python3"
  },
  "language_info": {
   "codemirror_mode": {
    "name": "ipython",
    "version": 3
   },
   "file_extension": ".py",
   "mimetype": "text/x-python",
   "name": "python",
   "nbconvert_exporter": "python",
   "pygments_lexer": "ipython3",
   "version": "3.7.10"
  }
 },
 "nbformat": 4,
 "nbformat_minor": 5
}
